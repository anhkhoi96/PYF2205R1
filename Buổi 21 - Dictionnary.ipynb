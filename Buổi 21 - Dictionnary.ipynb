{
 "cells": [
  {
   "cell_type": "markdown",
   "id": "a20f121d",
   "metadata": {},
   "source": [
    "# Dictionnary\n",
    "\n",
    "Dictionnary là một dạng list đặc biệt, nó khác list ở chỗ không lưu trữ các giá trị theo chỉ số vị trí, thay vào đó Dictionary sẽ lưu trữ các giá trị theo key\n",
    "\n",
    "##### Tài liệu tham khảo: https://www.w3schools.com/python/python_dictionaries.asp\n",
    "\n",
    "### Khai báo một dictionary\n",
    "\n",
    "Cú pháp:\n",
    "\n",
    "`<tên dictionary> = {}`\n",
    "\n",
    "### Dictionary được khai báo bằng hai dấu hoặc nhọn\n",
    "\n",
    "Đây là một dictionary rỗng\n",
    "\n",
    "<b>Ví dụ 1:</b>\n",
    "\n",
    "`a = {}`\n",
    "\n",
    "a là một dictionary rỗng\n",
    "\n",
    "<b>Ví dụ 2:</b>\n",
    "\n",
    "`a = {\"tên\": \"Nguyễn Tâm Điền\", \"tuổi\": 13, \"giới tính\": \"Nam\"}`\n",
    "\n",
    "b là một dictionary có 3 key, mõi key đều có một giá trị riêng biệt\n",
    "\n",
    "Key có thể mang kiểu dữ liệu là chuỗi hoặc số\n",
    "\n",
    "##### Mỗi một key đều phải có giá trị của riêng nó, không thể khai báo key không có giá trị\n",
    "\n",
    "<b>Hãy khai báo một dictionary có 3 phần tử</b>"
   ]
  },
  {
   "cell_type": "code",
   "execution_count": 1,
   "id": "d835f461",
   "metadata": {},
   "outputs": [
    {
     "name": "stdout",
     "output_type": "stream",
     "text": [
      "{'tiếng việt': 'xin chào', 'tiếng anh': 'hello', 'tiếng nhật': 'japanese'}\n"
     ]
    }
   ],
   "source": [
    "D = {'tiếng việt':'xin chào','tiếng anh':'hello','tiếng nhật':'japanese'}\n",
    "print(D)"
   ]
  },
  {
   "cell_type": "markdown",
   "id": "be1e321c",
   "metadata": {},
   "source": [
    "### Thêm key vào dictionary\n",
    "\n",
    "Cú pháp:\n",
    "\n",
    "`<tên dictionary>[<key>] = <giá trị>`\n",
    "\n",
    "<b>Ví dụ 1:</b>\n",
    "\n",
    "`a = {}\n",
    "a[\"tên\"] = \"NTD\"`\n",
    "\n",
    "a là một dictionary có một phần tử, phần tử đó có key là \"tên\" và giá trị của key đó là \"NTD\"\n",
    "\n",
    "##### Lưu ý, nếu trong trường hợp đã tồn tại key trong dictionary, dùng lệnh trên sẽ thay đổi giá trị key đó (không phải thêm key khác vào)\n",
    "\n",
    "<b>Ví dụ 2:</b>\n",
    "\n",
    "`a = {}\n",
    "a[\"tên\"] = \"NTD\"\n",
    "a[\"tên\"] = \"Nguyễn Tâm Điền\"`\n",
    "\n",
    "a vẫn là một dictionary có một phần tử, phần tử đó có key là \"tên\" và giá trị của key đó là \"Nguyễn Tâm Điền\"\n",
    "\n",
    "<b>Hãy khai báo một dictionary không có phần tử nào, sau đó thêm một phần tử vào dictionary đó</b>"
   ]
  },
  {
   "cell_type": "code",
   "execution_count": 2,
   "id": "7573ebef",
   "metadata": {},
   "outputs": [
    {
     "name": "stdout",
     "output_type": "stream",
     "text": [
      "{'tiếng anh': 'hi', 'tiếng việt': 'chào', 'tiếng pháp': 'bonjour'}\n"
     ]
    }
   ],
   "source": [
    "D = {'tiếng anh':'hi','tiếng việt':'xin chào'}\n",
    "D['tiếng pháp'] = 'bonjour' ## đây là lệnh thêm phần tử vì key 'tiếng pháp' chưa có trong D\n",
    "D['tiếng việt'] = 'chào' ## đây là lệnh thay đổi giá trị của key 'tiếng việt' vì key 'tiếng việt' đã có trong D rồi\n",
    "print(D)\n",
    "        "
   ]
  },
  {
   "cell_type": "code",
   "execution_count": 3,
   "id": "72a0e8cc",
   "metadata": {},
   "outputs": [
    {
     "name": "stdout",
     "output_type": "stream",
     "text": [
      "{'tên': 'NTD', 'tuổi': 13, 'giới tính': 'Nam'}\n"
     ]
    }
   ],
   "source": [
    "D = {\"tên\": \"Nguyễn Tâm Điền\", \"tuổi\": 13, \"giới tính\": \"Nam\"}\n",
    "D2 = D ## 2 cái dictionary là 1\n",
    "D2['tên'] = 'NTD'\n",
    "print(D)"
   ]
  },
  {
   "cell_type": "markdown",
   "id": "65c98825",
   "metadata": {},
   "source": [
    "### Truy xuất phần tử trong dictionary\n",
    "\n",
    "Cú pháp:\n",
    "\n",
    "`<tên dictionary>[<key>]`\n",
    "\n",
    "<b>Ví dụ:</b>\n",
    "\n",
    "`a = {\"tên\": \"Nguyễn Tâm Điền\", \"tuổi\": 13, \"giới tính\": \"Nam\"}\n",
    "print(a[\"tên\"])`\n",
    "\n",
    "Màn hình sẽ in: Nguyễn Tâm Điền\n",
    "\n",
    "<b>Hãy khai báo một dictionary rồi in ra màn hình một phần tử bất kỳ trong dictionary đó</b>"
   ]
  },
  {
   "cell_type": "code",
   "execution_count": null,
   "id": "f6159385",
   "metadata": {},
   "outputs": [],
   "source": []
  },
  {
   "cell_type": "markdown",
   "id": "afa92f87",
   "metadata": {},
   "source": [
    "### Sao chép dictionary\n",
    "\n",
    "##### Việc sao chép dictionary được thực hiện hệt như sao chép list, chúng ta cần phải sử dụng lệnh copy()"
   ]
  },
  {
   "cell_type": "markdown",
   "id": "ef7e800d",
   "metadata": {},
   "source": [
    "### Duyệt dictionary bằng lệnh for\n",
    "\n",
    "Cú pháp:\n",
    "\n",
    "`for <tên biến> in <tên dictionary>:`\n",
    "\n",
    "Biến sẽ có giá trị là từng key trong dictionary\n",
    "\n",
    "<b>Ví dụ:</b>\n",
    "\n",
    "`a = {\"tên\": \"Nguyễn Tâm Điền\", \"tuổi\": 13, \"giới tính\": \"Nam\"}\n",
    "for i in a:\n",
    "    print(i)`\n",
    "    \n",
    "Màn hình sẽ in ra:\n",
    "\n",
    "tên\n",
    "\n",
    "tuổi\n",
    "\n",
    "giới tính\n",
    "\n",
    "<b>Hãy khai báo một dictionary rồi in ra màn hình toàn bộ giá trị trong dictionary đó</b>"
   ]
  },
  {
   "cell_type": "code",
   "execution_count": null,
   "id": "3bdd1508",
   "metadata": {},
   "outputs": [],
   "source": []
  },
  {
   "cell_type": "markdown",
   "id": "1982f4b1",
   "metadata": {},
   "source": [
    "### Bài tập"
   ]
  },
  {
   "cell_type": "markdown",
   "id": "3060a950",
   "metadata": {},
   "source": [
    "Viết chương trình đếm số lần xuất hiện của một từ trong một văn bản nhất định"
   ]
  },
  {
   "cell_type": "code",
   "execution_count": null,
   "id": "af64832c",
   "metadata": {},
   "outputs": [],
   "source": [
    "for i in ['.', ',', '?', '-', '!', '\"', ':',\"(\",\")\"]:\n",
    "    vanban = vanban.replace(i, '')\n",
    "    \n",
    "vanban = vanban.split() ## ~~> từ dạng chuỗi sang dạng list\n",
    "\n",
    "## vanban dang là một cái list\n",
    "## xây dựng một dictionary D để lưu trữ số lượng từ của các từ trong List\n",
    "\n",
    "D = {}\n",
    "for i in vanban:\n",
    "    i = i.lower()\n",
    "    if i not in D:\n",
    "        D[i] = 1\n",
    "    else:\n",
    "        D[i] += 1\n",
    "        \n",
    "print(D)"
   ]
  },
  {
   "cell_type": "markdown",
   "id": "57c6f1e7",
   "metadata": {},
   "source": [
    "Viết chương trình cho phép người dùng quản lý sản phẩm, gồm các chức năng sau: \n",
    "\n",
    "- Hiển thị danh sách sản phẩm\n",
    "- Thêm sản phẩm mới vào danh sách\n",
    "- Sửa tên của sản phẩm trong danh sách\n",
    "- Xoá một sản phẩm khỏi danh sách"
   ]
  },
  {
   "cell_type": "code",
   "execution_count": null,
   "id": "8541b8c3",
   "metadata": {},
   "outputs": [],
   "source": [
    "## Đầu tiên in ra các nút chức năng:\n",
    "#### Nhập H - hiển thị sản phẩm\n",
    "#### Nhập T - thêm sản phẩm\n",
    "#### Nhập S - sửa sản phẩm\n",
    "#### Nhập X - xóa sản phẩm\n",
    "#### Nhập 0 để thoát chương trình\n",
    "\n",
    "#### Nếu nhập H thì hiển thị danh sách sản phẩm theo form:\n",
    "### ----------------\n",
    "###\n",
    "### 1:Phở bò\n",
    "### 2:Phở gà\n",
    "###\n",
    "### ----------------\n",
    "\n",
    "#### Nếu nhập T - thêm sản phẩm:\n",
    "###### Kêu cầu người dùng nhập vào ID (nếu nhập ID là 0 thì thoát chức năng)\n",
    "###### Nếu người dùng nhập ID đã tồn tại yêu cầu nhập lại cho đến khi nhập ID chưa tồn tại\n",
    "###### Nếu người dùng nhập ID chưa tồn tại, yêu cầu người dùng nhập tên sản phẩm rồi thêm sản phẩm vào danh sách\n",
    "\n",
    "#### Nếu nhập S - thêm sản phẩm:\n",
    "###### Kêu cầu người dùng nhập vào ID (nếu nhập ID là 0 thì thoát chức năng)\n",
    "###### Nếu người dùng nhập ID chưa tồn tại, yêu cầu người dùng nhập lại cho đến nhập ID đã tồn tại\n",
    "###### Nếu người dùng nhập ID đã tồn tại, yêu cầu người dùng nhập tên mới muốn sửa rồi sửa tên sản phẩm\n",
    "\n",
    "#### Nếu nhập X - xóa sản phẩm:\n",
    "###### Kêu cầu người dùng nhập vào ID (nếu nhập ID là 0 thì thoát chức năng)\n",
    "###### Nếu người dùng nhập ID chưa tồn tại, yêu cầu người dùng nhập lại cho đến nhập ID đã tồn tại\n",
    "###### Nếu người dùng nhập ID đã tồn tại, hỏi người dùng:\n",
    "###### Bạn có chắc muốn xóa sản phẩm này không? Nếu có gõ C, ngược lại gõ bất kỳ\n",
    "\n",
    "def hienthisanpham(D):\n",
    "    print(\"----------------\")\n",
    "    print()\n",
    "    for i in D:\n",
    "        print(i,\":\",D[i],sep = \"\")\n",
    "    print()\n",
    "    print(\"----------------\")\n",
    "    \n",
    "def themsanpham(D):\n",
    "    while True:\n",
    "        ID = input(\"Nhập vào ID (nhập 0 để thoát chức năng):\")\n",
    "        if ID == \"0\": return\n",
    "        if ID not in D: break\n",
    "        print(\"ID đã tồn tại, vui lòng nhập lại!\")\n",
    "    name = input(\"Nhập vào tên sản phẩm:\")\n",
    "    D[ID] = name\n",
    "    \n",
    "def suasanpham(D):\n",
    "    while True:\n",
    "        ID = input(\"Nhập vào ID (nhập 0 để thoát chức năng):\")\n",
    "        if ID == \"0\": return\n",
    "        if ID in D: break\n",
    "        print(\"ID chưa tồn tại, vui lòng nhập lại!\")\n",
    "    name = input(\"Nhập vào tên sản phẩm mới:\")\n",
    "    D[ID] = name\n",
    "    \n",
    "def xoasanpham(D):\n",
    "    while True:\n",
    "        ID = input(\"Nhập vào ID (nhập 0 để thoát chức năng):\")\n",
    "        if ID == \"0\": return\n",
    "        if ID in D: break\n",
    "        print(\"ID chưa tồn tại, vui lòng nhập lại!\")\n",
    "    xacnhan = input(\"Bạn có muốn xóa sản phẩm \" + D[ID] + \" không? Nếu có nhập C, nếu không nhập bất kỳ:\")\n",
    "    if xacnhan.lower() == \"c\":\n",
    "        D.pop(ID)\n",
    "        print(\"Bạn đã xóa sản phẩm!\")\n",
    "\n",
    "print('''\n",
    "Nhập H - hiển thị sản phẩm\n",
    "Nhập T - thêm sản phẩm\n",
    "Nhập S - sửa sản phẩm\n",
    "Nhập X - xóa sản phẩm\n",
    "Nhập 0 để thoát chương trình\n",
    "''')\n",
    "\n",
    "while True:\n",
    "    a = input(\"Nhập lệnh:\")\n",
    "    if a == \"H\":\n",
    "        hienthisanpham(D)\n",
    "    elif a == \"T\":\n",
    "        themsanpham(D)\n",
    "    elif a == \"S\":\n",
    "        suasanpham(D)\n",
    "    elif a == \"X\":\n",
    "        xoasanpham(D)\n",
    "    elif a == \"0\":\n",
    "        break\n"
   ]
  }
 ],
 "metadata": {
  "kernelspec": {
   "display_name": "Python 3 (ipykernel)",
   "language": "python",
   "name": "python3"
  },
  "language_info": {
   "codemirror_mode": {
    "name": "ipython",
    "version": 3
   },
   "file_extension": ".py",
   "mimetype": "text/x-python",
   "name": "python",
   "nbconvert_exporter": "python",
   "pygments_lexer": "ipython3",
   "version": "3.10.4"
  }
 },
 "nbformat": 4,
 "nbformat_minor": 5
}
