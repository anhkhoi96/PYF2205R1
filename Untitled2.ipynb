{
 "cells": [
  {
   "cell_type": "code",
   "execution_count": 8,
   "id": "9f1e5337",
   "metadata": {},
   "outputs": [
    {
     "name": "stdout",
     "output_type": "stream",
     "text": [
      "Nhập vào 1 số nguyên :5\n",
      "Đây là số lẻ\n"
     ]
    }
   ],
   "source": [
    "a = int(input(\"Nhập vào 1 số nguyên :\"))\n",
    "if a < 0:\n",
    "    print(\"Nhập lại\")\n",
    "elif a % 2 == 0:\n",
    "    print(\"Đây là số chẵn\")\n",
    "else:\n",
    "    print(\"Đây là số lẻ\")"
   ]
  },
  {
   "cell_type": "code",
   "execution_count": 10,
   "id": "9d48a7a0",
   "metadata": {},
   "outputs": [
    {
     "name": "stdout",
     "output_type": "stream",
     "text": [
      "Nhập vào 1 số :5\n",
      "Friday\n"
     ]
    }
   ],
   "source": [
    "a = int(input(\"Nhập vào 1 số :\"))\n",
    "if a == 1:\n",
    "    print(\"Monday\")\n",
    "elif a == 2:\n",
    "    print(\"Tuesday\")\n",
    "elif a == 3:\n",
    "    print(\"Wednesday\")\n",
    "elif a == 4:\n",
    "    print(\"Thursday\")\n",
    "elif a == 5:\n",
    "    print(\"Friday\")\n",
    "elif a == 6:\n",
    "    print(\"saturday\")\n",
    "elif a == 7:\n",
    "    print(\"Sunday\")\n",
    "else:\n",
    "    print(\"Không hợp lệ\")\n"
   ]
  },
  {
   "cell_type": "code",
   "execution_count": 14,
   "id": "48a6ff53",
   "metadata": {},
   "outputs": [
    {
     "name": "stdout",
     "output_type": "stream",
     "text": [
      "Nhập vào sô tiền : 50\n",
      "Tổng:  50\n"
     ]
    }
   ],
   "source": [
    "a = int(input(\"Nhập vào sô tiền : \"))\n",
    "if a >= 150:\n",
    "    print(\"Tổng: \", a - 50)\n",
    "elif a >= 100:\n",
    "    print(\"Tổng: \", a - 25)\n",
    "elif a >= 75:\n",
    "    print(\"Tổng: \", a - 15)\n",
    "else:\n",
    "    print(\"Tổng: \", a)"
   ]
  },
  {
   "cell_type": "code",
   "execution_count": 15,
   "id": "664ba3bf",
   "metadata": {},
   "outputs": [
    {
     "name": "stdout",
     "output_type": "stream",
     "text": [
      " nhập chiều cao (cm): 172\n",
      " nhập chiều cân nặng (kg): 75\n",
      "Thừa cân\n"
     ]
    }
   ],
   "source": [
    "a = int(input(\" nhập chiều cao (cm): \"))\n",
    "b = int(input(\" nhập chiều cân nặng (kg): \"))\n",
    "BMI = b/((a/100)**2)\n",
    "if BMI < 16:\n",
    "    print(\"gầy cấp độ III\")\n",
    "elif BMI < 17:\n",
    "    print(\"Gầy cấp độ II\")\n",
    "elif BMI < 18.5:\n",
    "    print(\"Gầy cấp độ I\")\n",
    "elif BMI < 25:\n",
    "    print(\"Bình thường\")\n",
    "elif BMI < 30:\n",
    "    print(\"Thừa cân\")\n",
    "elif BMI < 35:\n",
    "    print(\"Béo phì cấp I\")\n",
    "elif BMI < 40:\n",
    "    print(\"Béo phì cấp II\")\n",
    "else:\n",
    "    print(\"Béo phì cấp III\")"
   ]
  }
 ],
 "metadata": {
  "kernelspec": {
   "display_name": "Python 3 (ipykernel)",
   "language": "python",
   "name": "python3"
  },
  "language_info": {
   "codemirror_mode": {
    "name": "ipython",
    "version": 3
   },
   "file_extension": ".py",
   "mimetype": "text/x-python",
   "name": "python",
   "nbconvert_exporter": "python",
   "pygments_lexer": "ipython3",
   "version": "3.10.4"
  }
 },
 "nbformat": 4,
 "nbformat_minor": 5
}
