{
 "cells": [
  {
   "cell_type": "markdown",
   "id": "1f7be993",
   "metadata": {},
   "source": [
    "# Thực tập vòng lặp While\n",
    "\n",
    "### Bài 1\n",
    "\n",
    "Nhập vào số a, sử dụng lệnh while (không sử dụng break và for) để xác định xem số đó có phải là số nguyên tố hay không"
   ]
  },
  {
   "cell_type": "code",
   "execution_count": 3,
   "id": "8cb73965",
   "metadata": {},
   "outputs": [
    {
     "name": "stdout",
     "output_type": "stream",
     "text": [
      "nhập a5\n",
      "Đây là số nguyên tố\n"
     ]
    }
   ],
   "source": [
    "a=int(input(\"nhập a\"))\n",
    "\n",
    "i = 1\n",
    "dem = 0\n",
    "while i <= a:\n",
    "    if a % i == 0:\n",
    "        dem += 1\n",
    "    i += 1\n",
    "if dem == 2:\n",
    "    print(\"Đây là số nguyên tố\")\n",
    "else:\n",
    "    print(\"Đây không là số nguyên tố\")"
   ]
  },
  {
   "cell_type": "markdown",
   "id": "9f2357ca",
   "metadata": {},
   "source": [
    "### Bài 2\n",
    "\n",
    "Hãy sử dụng lệnh while lập trình cho bài đoán số ở buổi thứ 9"
   ]
  },
  {
   "cell_type": "code",
   "execution_count": null,
   "id": "db79cb9d",
   "metadata": {},
   "outputs": [],
   "source": [
    "#Lập trình chương trình đoán số như sau:\n",
    "\n",
    "#Người chơi nghĩ ra 1 số bất kỳ (từ 0 đến 100)\n",
    "\n",
    "#Máy tính sẽ tiến hành đoán số, mỗi lần máy tính đoán 1 số, người chơi hãy trả lời chính xác 1 trong 3 câu trả lời: lớn hơn, bé hơn hoặc bằng số người chơi nghĩ trong đầu\n",
    "\n",
    "#Sau tối đa 7 lần đoán, máy phải đoán đúng số mà người chơi đã nghĩ"
   ]
  },
  {
   "cell_type": "code",
   "execution_count": null,
   "id": "0bfde7cd",
   "metadata": {},
   "outputs": [],
   "source": [
    "a = float(input(\"số bạn đoán là :\"))\n"
   ]
  },
  {
   "cell_type": "markdown",
   "id": "58f5b789",
   "metadata": {},
   "source": [
    "### Bài 3\n",
    "\n",
    "Nhập vào số a, hãy đếm a có bao nhiêu chữ số chẵn, bao nhiêu cữ số lẻ\n",
    "\n",
    "#### Cách 1 (dùng chuỗi):"
   ]
  },
  {
   "cell_type": "code",
   "execution_count": 1,
   "id": "e7f9da21",
   "metadata": {},
   "outputs": [
    {
     "name": "stdout",
     "output_type": "stream",
     "text": [
      "Nhập a123654\n",
      "3\n",
      "3\n"
     ]
    }
   ],
   "source": [
    "a = int(input(\"Nhập a\"))\n",
    "a = str(a)\n",
    "i = 0\n",
    "demchan = 0\n",
    "demle = 0\n",
    "while i < len(a):\n",
    "    if int(a[i]) % 2 == 0:\n",
    "        demchan += 1\n",
    "    else:\n",
    "        demle += 1\n",
    "    i += 1\n",
    "print(demchan)\n",
    "print(demle)\n",
    "    "
   ]
  },
  {
   "cell_type": "markdown",
   "id": "9a3d9703",
   "metadata": {},
   "source": [
    "#### Cách 2 (không dùng chuỗi):"
   ]
  },
  {
   "cell_type": "code",
   "execution_count": 2,
   "id": "d4e474c8",
   "metadata": {},
   "outputs": [
    {
     "name": "stdout",
     "output_type": "stream",
     "text": [
      "Nhập a bất kì:12155\n",
      "1\n",
      "4\n"
     ]
    }
   ],
   "source": [
    "a = int(input(\"Nhập a bất kì:\"))\n",
    "\n",
    "demchan = 0\n",
    "demle = 0\n",
    "\n",
    "while a != 0:\n",
    "    chusocuoicung = a % 10\n",
    "    a = a // 10\n",
    "    if chusocuoicung % 2 == 0 and chusocuoicung != 0:\n",
    "        demchan += 1\n",
    "    else:\n",
    "        demle += 1\n",
    "print(demchan)\n",
    "print(demle)"
   ]
  },
  {
   "cell_type": "markdown",
   "id": "69539ece",
   "metadata": {},
   "source": [
    "### Bài 4\n",
    "\n",
    "Nhập vào số a, hãy tính tổng các chữ số nguyên tố của a"
   ]
  },
  {
   "cell_type": "code",
   "execution_count": 1,
   "id": "f001bd9a",
   "metadata": {},
   "outputs": [
    {
     "name": "stdout",
     "output_type": "stream",
     "text": [
      "Nhập a bất kì:1313\n",
      "6\n"
     ]
    }
   ],
   "source": [
    "a = int(input(\"Nhập a bất kì:\"))\n",
    "\n",
    "S = 0\n",
    "\n",
    "while a != 0:\n",
    "    chusocuoicung = a % 10\n",
    "    a = a // 10\n",
    "    if chusocuoicung == 2 or chusocuoicung == 3 or chusocuoicung == 5 or chusocuoicung == 7:\n",
    "        S += chusocuoicung\n",
    "print(S)"
   ]
  },
  {
   "cell_type": "markdown",
   "id": "0a5075a4",
   "metadata": {},
   "source": [
    "### Bài 5\n",
    "\n",
    "Số armstrong là số có tổng của các chữ số mũ số lượng chữ số bằng chính nó\n",
    "\n",
    "Ví dụ\n",
    "\n",
    "Số 371 là một số armstrong vì:\n",
    "\n",
    "371 = 3^3 + 7^3 + 1^3 (3 là số lượng chữ số của 371)\n",
    "\n",
    "Số 1634 là một số armstrong vì:\n",
    "\n",
    "1634 = 1^4 + 6^4 + 3^4 + 4^4 (4 là số lượng chữ số của 1634)\n",
    "\n",
    "Nhập vào số a, kiểm tra xem a có phải là số armstrong không"
   ]
  },
  {
   "cell_type": "code",
   "execution_count": 1,
   "id": "b9ed54a5",
   "metadata": {},
   "outputs": [
    {
     "name": "stdout",
     "output_type": "stream",
     "text": [
      "Nhap a:371\n",
      "371 là một số armstrong\n"
     ]
    }
   ],
   "source": [
    "\n",
    "\n",
    "a = int(input(\"Nhap a:\"))\n",
    "while a<=0:\n",
    "    a = int(input(\"Nhap lai:\"))\n",
    "    \n",
    "s = 0\n",
    "a0 = a\n",
    "n = len(str(a))\n",
    "while a!=0:\n",
    "    s += (a%10)**n\n",
    "    a = a//10\n",
    "if a0 == s:\n",
    "    print(a0, \"là một số armstrong\")\n",
    "else:\n",
    "    print(a0, \"không phải số armstrong\")\n"
   ]
  },
  {
   "cell_type": "markdown",
   "id": "f8a584d3",
   "metadata": {},
   "source": [
    "### Bài 6\n",
    "\n",
    "Dãy số fibonacci là dãy số được định nghĩa như sau: 1, 1, 2, 3, 5, 8, 13,... với số kế tiếp sẽ bằng tổng hai số trước đó\n",
    "\n",
    "Nhập vào A, hãy tìm số trong dãy số fibonacci lớn nhất nhưng không vượt quá A"
   ]
  },
  {
   "cell_type": "code",
   "execution_count": 2,
   "id": "3ad4d85b",
   "metadata": {},
   "outputs": [
    {
     "name": "stdout",
     "output_type": "stream",
     "text": [
      "Nhập số a:123456\n",
      "Nhập đúng quy định\n",
      "121393\n"
     ]
    }
   ],
   "source": [
    "while True:\n",
    "    a = int(input('Nhập số a:'))\n",
    "    if a > 0:\n",
    "        print('Nhập đúng quy định')\n",
    "        break\n",
    "    print('Nhập sai quy định')\n",
    "\n",
    "b = 1\n",
    "c = 1\n",
    "while (b + c) <= a:\n",
    "    c, b = b + c,c\n",
    "print(c)\n"
   ]
  },
  {
   "cell_type": "code",
   "execution_count": 4,
   "id": "078a8410",
   "metadata": {},
   "outputs": [
    {
     "name": "stdout",
     "output_type": "stream",
     "text": [
      "Nhập vào a :12345\n",
      "10946\n"
     ]
    }
   ],
   "source": [
    "A = int(input(\"Nhập vào a :\"))\n",
    "\n",
    "a = 1\n",
    "b = 1\n",
    "c = a + b\n",
    "\n",
    "while c <= A:\n",
    "    a = b\n",
    "    b = c\n",
    "    c = a + b\n",
    "    \n",
    "print(b)"
   ]
  },
  {
   "cell_type": "markdown",
   "id": "9fa794f2",
   "metadata": {},
   "source": [
    "### Bài 7\n",
    "\n",
    "Nhập vào A, tìm n nhỏ nhất sao cho\n",
    "\n",
    "1 + 1/2 + 1/3 + 1/4 + ... + 1/n > A"
   ]
  },
  {
   "cell_type": "code",
   "execution_count": 3,
   "id": "246ec002",
   "metadata": {},
   "outputs": [
    {
     "name": "stdout",
     "output_type": "stream",
     "text": [
      "nhập a:1.5\n",
      "2\n"
     ]
    }
   ],
   "source": [
    "a=float(input(\"nhập a:\"))\n",
    "s = 0\n",
    "n = 0\n",
    "while s <= a:\n",
    "    n += 1\n",
    "    s += 1/n\n",
    "print(n-1)\n"
   ]
  },
  {
   "cell_type": "markdown",
   "id": "c5fd4d8a",
   "metadata": {},
   "source": [
    "### Bài 8\n",
    "\n",
    "Nhập vào a và b là số nguyên dương (b có một chữ số, nhập sai yêu cầu nhập lại), hãy tìm vị trí đầu tiên (bắt đầu từ bên trái) của b trong a, nếu không tìm thấy thì in kết quả là 0 (ví trí đầu bắt đầu từ 1)\n",
    "\n",
    "<b>Ví dụ:</b>\n",
    "\n",
    "<b>Nhập:</b>\n",
    "- a = 125785\n",
    "- b = 5\n",
    "\n",
    "<b>Kết quả:</b> 3 (do số 5 nằm ở vị trí 3)"
   ]
  },
  {
   "cell_type": "code",
   "execution_count": null,
   "id": "9edf35ac",
   "metadata": {},
   "outputs": [],
   "source": [
    "a=input(\"nhập vào các chữ số của a: \")\n",
    "\n",
    "while True:\n",
    "    b=int(input(\"nhập một chữ số của b từ 0-9: \"))\n",
    "    if(0<=b<10):break\n",
    "    else:print(\"mời nhập lại!\")\n",
    "        \n",
    "b = str(b)\n",
    "i = 0\n",
    "while i < len(a):\n",
    "    if a[i] == b:\n",
    "        print(i+1)\n",
    "        break\n",
    "    i += 1\n",
    "if i == len(a):\n",
    "    print(0)"
   ]
  },
  {
   "cell_type": "code",
   "execution_count": 3,
   "id": "7f8b7705",
   "metadata": {},
   "outputs": [
    {
     "name": "stdout",
     "output_type": "stream",
     "text": [
      "nhập vào các chữ số của a: 135531\n",
      "nhập một chữ số của b từ 0-9: 6\n",
      "0\n"
     ]
    }
   ],
   "source": [
    "a=input(\"nhập vào các chữ số của a: \")\n",
    "\n",
    "while True:\n",
    "    b=int(input(\"nhập một chữ số của b từ 0-9: \"))\n",
    "    if(0<=b<10):break\n",
    "    else:print(\"mời nhập lại!\")\n",
    "        \n",
    "b = str(b)\n",
    "i = 0\n",
    "while i < len(a):\n",
    "    if a[i] == b:\n",
    "        print(i+1)\n",
    "        break\n",
    "    i += 1\n",
    "if i == len(a):\n",
    "    print(0)"
   ]
  }
 ],
 "metadata": {
  "kernelspec": {
   "display_name": "Python 3 (ipykernel)",
   "language": "python",
   "name": "python3"
  },
  "language_info": {
   "codemirror_mode": {
    "name": "ipython",
    "version": 3
   },
   "file_extension": ".py",
   "mimetype": "text/x-python",
   "name": "python",
   "nbconvert_exporter": "python",
   "pygments_lexer": "ipython3",
   "version": "3.10.4"
  }
 },
 "nbformat": 4,
 "nbformat_minor": 5
}
