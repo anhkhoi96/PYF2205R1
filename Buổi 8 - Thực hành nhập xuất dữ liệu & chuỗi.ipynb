{
 "cells": [
  {
   "cell_type": "markdown",
   "id": "5bc93fb0",
   "metadata": {},
   "source": [
    "# Thực hành nhập xuất dữ liệu & chuỗi\n",
    "\n",
    "### Bài tập tra cứu lệnh\n",
    "\n",
    "Nhập vào một chuỗi, kiểm tra xem chuỗi đó có ký tự nào là chữ in hoa hay không, nếu có thì in True, không có thì in False"
   ]
  },
  {
   "cell_type": "code",
   "execution_count": 1,
   "id": "4b3df2ba",
   "metadata": {},
   "outputs": [
    {
     "name": "stdout",
     "output_type": "stream",
     "text": [
      "Nhập vào chuỗi:Xìn chài\n",
      "True\n"
     ]
    }
   ],
   "source": [
    "## chuỗi có kí tự nào là chữ in hoa hay không?\n",
    "## chuổi có 1 chữ in hoa thì mình in ra true\n",
    "## chuỗi không có chữ in hoa thì mình in ra false\n",
    "\n",
    "## Lệnh isupper() sẽ trả về true nếu tất cả ký tự trong chuỗi là chữ in hoa\n",
    "## Lệnh islower() sẽ trả về true nếu tất cả các ký tự trong chuỗi là chữ in thường\n",
    "\n",
    "## điều kiện đề yêu cầu \n",
    "chuoi = input(\"Nhập vào chuỗi:\")\n",
    "print(not chuoi.islower())"
   ]
  },
  {
   "cell_type": "markdown",
   "id": "e14eae7c",
   "metadata": {},
   "source": [
    "Nhập vào một chuỗi, kiểm tra xem chuỗi đó có ký tự nào là chữ in thường hay không, nếu có thì in True, không có thì in False"
   ]
  },
  {
   "cell_type": "code",
   "execution_count": 2,
   "id": "ab00180c",
   "metadata": {},
   "outputs": [
    {
     "name": "stdout",
     "output_type": "stream",
     "text": [
      "Nhập vào chuỗiSaaaa\n",
      "True\n"
     ]
    }
   ],
   "source": [
    "chuôi = input(\"Nhập vào chuỗi\")\n",
    "print(not chuoi.isupper())"
   ]
  },
  {
   "cell_type": "markdown",
   "id": "eab86ecf",
   "metadata": {},
   "source": [
    "Nhập vào một chuỗi a và chuỗi b, tìm vị trí đầu tiên xuất hiện chuỗi b trong chuỗi a"
   ]
  },
  {
   "cell_type": "code",
   "execution_count": 4,
   "id": "051eb4af",
   "metadata": {},
   "outputs": [
    {
     "name": "stdout",
     "output_type": "stream",
     "text": [
      "Nhập a: xin chào\n",
      "Nhập b: xin\n",
      "0\n"
     ]
    }
   ],
   "source": [
    "a = input('Nhập a: ')\n",
    "b = input('Nhập b: ')\n",
    "print(a.find(b))  ## Nếu find không tìm được b bên trong a thì sẽ trả về kết quả -1(không báo lỗi)\n"
   ]
  },
  {
   "cell_type": "markdown",
   "id": "9239bc4e",
   "metadata": {},
   "source": [
    "Nhập vào một chuỗi a, hãy xóa từ đầu tiên trong chuỗi a, rồi in ra màn hình"
   ]
  },
  {
   "cell_type": "code",
   "execution_count": 5,
   "id": "90967cd9",
   "metadata": {},
   "outputs": [
    {
     "ename": "SyntaxError",
     "evalue": "unmatched ')' (3891259251.py, line 1)",
     "output_type": "error",
     "traceback": [
      "\u001b[1;36m  Input \u001b[1;32mIn [5]\u001b[1;36m\u001b[0m\n\u001b[1;33m    a = input\"Nhập vào 1 chuỗi:\")\u001b[0m\n\u001b[1;37m                                ^\u001b[0m\n\u001b[1;31mSyntaxError\u001b[0m\u001b[1;31m:\u001b[0m unmatched ')'\n"
     ]
    }
   ],
   "source": [
    "a = input\"Nhập vào 1 chuỗi:\")\n",
    "tim_khoang_trang = a.find(\" \")\n",
    "print(\"vị trí khoảng trắng đầu tiên là:\",tim_khoang_trang)\n",
    "bo_ky_tu_dau = a[tim_khoang_trang+1:]\n",
    "print(a)"
   ]
  },
  {
   "cell_type": "markdown",
   "id": "05b74fb4",
   "metadata": {},
   "source": [
    "### Bài 1\n",
    "\n",
    "Nhập vào một chuỗi, đếm xem có bao nhiêu từ trong chuỗi kết thúc bằng chữ n"
   ]
  },
  {
   "cell_type": "code",
   "execution_count": 5,
   "id": "d126675c",
   "metadata": {},
   "outputs": [
    {
     "name": "stdout",
     "output_type": "stream",
     "text": [
      "Nhập vào 1 chuỗi:xin chào bạn\n",
      "2\n"
     ]
    }
   ],
   "source": [
    "chuoi = input(\"Nhập vào 1 chuỗi:\")\n",
    "chuoi += \" \"\n",
    "a = chuoi.count(\"n \") + chuoi.count(\"n,\") + chuoi.count(\"n.\") + chuoi.count(\"n!\") + chuoi.count(\"n?\")\n",
    "print(a)"
   ]
  },
  {
   "cell_type": "markdown",
   "id": "53a78d35",
   "metadata": {},
   "source": [
    "### Bài 2\n",
    "\n",
    "Nhập vào một chuỗi, kiểm tra xem chuỗi đó có ký tự hoa hoặc ký tự thường hay không."
   ]
  },
  {
   "cell_type": "code",
   "execution_count": 8,
   "id": "f5be8c39",
   "metadata": {},
   "outputs": [
    {
     "name": "stdout",
     "output_type": "stream",
     "text": [
      "Hãy nhập vào một chuỗi: Xin chào\n",
      "Chuỗi a có ký tự hoa hay không:  True\n",
      "Chuỗi a có ký tự thường hay không:  True\n"
     ]
    }
   ],
   "source": [
    "a = input(\"Hãy nhập vào một chuỗi: \")\n",
    "print(\"Chuỗi a có ký tự hoa hay không: \", not a.islower())\n",
    "print(\"Chuỗi a có ký tự thường hay không: \", not a.isupper())"
   ]
  },
  {
   "cell_type": "markdown",
   "id": "64ca662e",
   "metadata": {},
   "source": [
    "### Bài 3\n",
    "\n",
    "Nhập vào một chuỗi, kiểm tra tính đối xứng của chuỗi đó"
   ]
  },
  {
   "cell_type": "code",
   "execution_count": 9,
   "id": "749f4136",
   "metadata": {},
   "outputs": [
    {
     "name": "stdout",
     "output_type": "stream",
     "text": [
      "Hãy nhập vào một chuỗi: abcba\n",
      "True\n"
     ]
    }
   ],
   "source": [
    "a = input(\"Hãy nhập vào một chuỗi: \")\n",
    "k = -1\n",
    "a_nguoc = \"\"\n",
    "for i in range(len(a)): ## tạo chuỗi ngược\n",
    "    a_nguoc += a[k]\n",
    "    k -= 1\n",
    "print(a_nguoc == a)\n"
   ]
  },
  {
   "cell_type": "markdown",
   "id": "85dd8fef",
   "metadata": {},
   "source": [
    "### Bài 4\n",
    "\n",
    "Nhập vào một chuỗi, in ra các ký tự trong chuỗi và nếu là ký tự hoa thì in kèm True, ký tự thường thì in kèm False"
   ]
  },
  {
   "cell_type": "code",
   "execution_count": 11,
   "id": "0d099247",
   "metadata": {},
   "outputs": [
    {
     "name": "stdout",
     "output_type": "stream",
     "text": [
      "Hãy nhập vào một chuỗi: Abc\n",
      "A True\n",
      "b False\n",
      "c False\n"
     ]
    }
   ],
   "source": [
    "a = input(\"Hãy nhập vào một chuỗi: \")\n",
    "\n",
    "k = 0\n",
    "for i in range(len(a)):\n",
    "    print(a[k],a[k].isupper())\n",
    "    k += 1"
   ]
  },
  {
   "cell_type": "markdown",
   "id": "1373dc74",
   "metadata": {},
   "source": [
    "### Bài 5\n",
    "\n",
    "Nhập vào một chuỗi, tìm các ký tự chỉ xuất hiện một lần trong chuỗi (nếu xuất hiện 1 lần in true, xuất hiện nhiều lần in false)\n",
    "\n",
    "Ví dụ:\n",
    "\n",
    "Nhập chuỗi: \"ABAbc\"\n",
    "\n",
    "In:\n",
    "\n",
    "A: False\n",
    "\n",
    "B: True\n",
    "\n",
    "A: False\n",
    "\n",
    "b: True\n",
    "\n",
    "c: True"
   ]
  },
  {
   "cell_type": "code",
   "execution_count": 12,
   "id": "a93bc53d",
   "metadata": {},
   "outputs": [
    {
     "name": "stdout",
     "output_type": "stream",
     "text": [
      "Hãy nhập vào một chuỗi: abac\n",
      "a:False\n",
      "b:True\n",
      "a:False\n",
      "c:True\n"
     ]
    }
   ],
   "source": [
    "a = input(\"Hãy nhập vào một chuỗi: \")\n",
    "\n",
    "k = 0\n",
    "for i in range(len(a)):\n",
    "    print(a[k],a.count(a[k])==1,sep = \":\")\n",
    "    k += 1"
   ]
  },
  {
   "cell_type": "markdown",
   "id": "69bebf4c",
   "metadata": {},
   "source": [
    "### Bài 6\n",
    "\n",
    "Nhập vào một chuỗi, kiểm tra trong chuỗi có con số hay không, nếu có in True, không có in False"
   ]
  },
  {
   "cell_type": "code",
   "execution_count": 4,
   "id": "1b4eab4f",
   "metadata": {},
   "outputs": [
    {
     "name": "stdout",
     "output_type": "stream",
     "text": [
      "Nhập chuỗi:dfđ\n",
      "False\n"
     ]
    }
   ],
   "source": [
    "a = input(\"Nhập chuỗi:\")\n",
    "k = 0\n",
    "b = 0\n",
    "for i in range(10):\n",
    "    b += a.count(str(k))\n",
    "    k += 1\n",
    "print(b != 0)\n",
    "    "
   ]
  },
  {
   "cell_type": "markdown",
   "id": "1e51403c",
   "metadata": {},
   "source": [
    "### Bài 7\n",
    "\n",
    "Nhập vào một chuỗi, tách những con số có trong chuỗi ra rồi tính tổng của chúng\n",
    "\n",
    "In tổng lên màn hình"
   ]
  },
  {
   "cell_type": "code",
   "execution_count": 1,
   "id": "a34e349d",
   "metadata": {},
   "outputs": [
    {
     "name": "stdout",
     "output_type": "stream",
     "text": [
      "Nhập chuỗi: aksskd456\n",
      "15\n"
     ]
    }
   ],
   "source": [
    "A = input('Nhập chuỗi: ')\n",
    "\n",
    "B = 0\n",
    "k = 0\n",
    "for i in range (10):\n",
    "    B += k*A.count(str(k))\n",
    "    k += 1\n",
    "print(B)"
   ]
  },
  {
   "cell_type": "markdown",
   "id": "e951779d",
   "metadata": {},
   "source": [
    "### Bài 8\n",
    "\n",
    "Nhập vào một chuỗi, đảo ngược chuỗi đã nhập rồi in ra màn hình"
   ]
  },
  {
   "cell_type": "code",
   "execution_count": 1,
   "id": "9305f0f1",
   "metadata": {},
   "outputs": [
    {
     "name": "stdout",
     "output_type": "stream",
     "text": [
      "Hãy nhập vào một chuỗi: abc\n",
      "cba\n"
     ]
    }
   ],
   "source": [
    "a = input(\"Hãy nhập vào một chuỗi: \")\n",
    "a_nguoc = a[::-1]\n",
    "print(a_nguoc)"
   ]
  },
  {
   "cell_type": "markdown",
   "id": "04194b5c",
   "metadata": {},
   "source": [
    "### Bài 9\n",
    "\n",
    "Nhập vào một chuỗi, kiểm tra xem mỗi từ trong chuỗi có được viết hoa chữ cái đầu hay không, nếu tất cả đều được viết hoa thì in ra True, còn không thì in ra False\n",
    "\n",
    "Trong trường hợp là False, hãy viết hoa tất cả các chữ cái đầu của mỗi từ rồi in lên màn hình\n",
    "\n",
    "Cách làm thông thường:"
   ]
  },
  {
   "cell_type": "code",
   "execution_count": null,
   "id": "9f947c7d",
   "metadata": {},
   "outputs": [],
   "source": []
  },
  {
   "cell_type": "markdown",
   "id": "f43e32af",
   "metadata": {},
   "source": [
    "Cách sử dụng lệnh có sẵn:"
   ]
  },
  {
   "cell_type": "code",
   "execution_count": 2,
   "id": "714f1412",
   "metadata": {},
   "outputs": [
    {
     "name": "stdout",
     "output_type": "stream",
     "text": [
      "Hãy nhập vào một chuỗi: xin chaO\n",
      "False\n",
      "Xin Chao\n"
     ]
    }
   ],
   "source": [
    "a = input(\"Hãy nhập vào một chuỗi: \")\n",
    "print(a.istitle())\n",
    "print(a.title())\n"
   ]
  }
 ],
 "metadata": {
  "kernelspec": {
   "display_name": "Python 3 (ipykernel)",
   "language": "python",
   "name": "python3"
  },
  "language_info": {
   "codemirror_mode": {
    "name": "ipython",
    "version": 3
   },
   "file_extension": ".py",
   "mimetype": "text/x-python",
   "name": "python",
   "nbconvert_exporter": "python",
   "pygments_lexer": "ipython3",
   "version": "3.10.4"
  }
 },
 "nbformat": 4,
 "nbformat_minor": 5
}
