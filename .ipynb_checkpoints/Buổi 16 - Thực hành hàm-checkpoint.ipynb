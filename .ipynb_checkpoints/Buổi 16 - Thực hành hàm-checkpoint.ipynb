{
 "cells": [
  {
   "cell_type": "markdown",
   "id": "028ffec3",
   "metadata": {},
   "source": [
    "# Thực hành hàm\n",
    "\n",
    "### Bài 1\n",
    "\n",
    "Viết hàm có dữ liệu đầu vào là 2 số a và b, số nào lớn hơn thì in bảng cửu chương của số đó"
   ]
  },
  {
   "cell_type": "code",
   "execution_count": 2,
   "id": "1974966b",
   "metadata": {},
   "outputs": [
    {
     "name": "stdout",
     "output_type": "stream",
     "text": [
      "Nhập số :5\n",
      "Nhập số :2\n",
      "5 x 0 = 0\n",
      "5 x 1 = 5\n",
      "5 x 2 = 10\n",
      "5 x 3 = 15\n",
      "5 x 4 = 20\n",
      "5 x 5 = 25\n",
      "5 x 6 = 30\n",
      "5 x 7 = 35\n",
      "5 x 8 = 40\n",
      "5 x 9 = 45\n",
      "5 x 10 = 50\n"
     ]
    }
   ],
   "source": [
    "def bcc(a,b):\n",
    "    for i in range(11):\n",
    "        if a > b:\n",
    "            print(a ,\"x\",i, \"=\" ,a*i)\n",
    "        else:\n",
    "            print(b ,\"x\",i, \"=\" ,b*i)\n",
    "a = int(input(\"Nhập số :\"))\n",
    "b = int(input(\"Nhập số :\"))\n",
    "bcc(a,b)\n",
    "\n",
    "    "
   ]
  },
  {
   "cell_type": "markdown",
   "id": "9de8ffaa",
   "metadata": {},
   "source": [
    "### Bài 2\n",
    "\n",
    "Viết hàm `xoachuoi` có dữ liệu đầu vào là 2 chuỗi a và b, hãy tìm trong chuỗi a có chuỗi b hay không, nếu có hãy xóa toán bộ chuỗi b trong a.\n",
    "\n",
    "Sau đó trả về chuỗi a mới\n",
    "\n",
    "Ví dụ:\n",
    "\n",
    "chuoi1 = \"xin chào các bạn, các bạn có khỏe không?\"\n",
    "\n",
    "chuoi2 = \"các bạn\"\n",
    "\n",
    "chuoi3 = xoachuoi(chuoi1,chuoi2)\n",
    "\n",
    "print(chuoi3)\n",
    "\n",
    "Kết quả in ra là:\n",
    "xin chào ,  có khỏe không"
   ]
  },
  {
   "cell_type": "code",
   "execution_count": 5,
   "id": "05de1584",
   "metadata": {},
   "outputs": [
    {
     "name": "stdout",
     "output_type": "stream",
     "text": [
      "xin chào các bạn có khỏe không\n"
     ]
    }
   ],
   "source": [
    "def xoachuoi(chuoi1,chuoi2):\n",
    "    a = len(chuoi1)\n",
    "    b = len(chuoi2)\n",
    "    for i in range(a-b):\n",
    "        if chuoi1[i:i+b] == chuoi2:\n",
    "            chuoi1 = chuoi1[:i] + chuoi1[i+b:]\n",
    "    return chuoi1\n",
    "chuoi1 = \"xin chào các bạncác bạn có khỏe không\"\n",
    "chuoi2 = \"các bạn\"\n",
    "chuoi3 = xoachuoi(chuoi1,chuoi2)\n",
    "print(chuoi3)\n",
    "    "
   ]
  },
  {
   "cell_type": "code",
   "execution_count": 7,
   "id": "50e7ffce",
   "metadata": {},
   "outputs": [
    {
     "name": "stdout",
     "output_type": "stream",
     "text": [
      "Nhập vào chuổi :xin chào các bạn xin chào các bạn\n",
      "Nhập vào chuổi :các bạn\n",
      "xin chào  xin chào \n"
     ]
    }
   ],
   "source": [
    "def xoachuoi(chuoi1,chuoi2):\n",
    "    a = len(chuoi1)\n",
    "    b = len(chuoi2)\n",
    "    for i in range(a-b):\n",
    "        if chuoi1[i:i+b] == chuoi2:\n",
    "            chuoi1 = chuoi1[:i] + chuoi1[i+b:]\n",
    "    return chuoi1\n",
    "chuoi1 = input(\"Nhập vào chuổi :\")\n",
    "chuoi2 = input(\"Nhập vào chuổi :\")\n",
    "chuoi3 = xoachuoi(chuoi1,chuoi2)\n",
    "print(chuoi3)"
   ]
  },
  {
   "cell_type": "markdown",
   "id": "d626394e",
   "metadata": {},
   "source": [
    "### Bài 3\n",
    "\n",
    "Viết hàm `kiemtramatkhau` với dữ liệu đầu vào là 1 chuỗi có công dụng như sau:\n",
    "\n",
    "Kiểm tra xem chuỗi đầu vào có phải là mật khẩu mạnh hay không, nếu có trả về True, nếu không trả về False\n",
    "\n",
    "Mật khẩu mạnh là mật khẩu phải có ít nhất 1 chữ hoa, 1 chữ thường, 1 số và 1 ký tự đặc biệt"
   ]
  },
  {
   "cell_type": "code",
   "execution_count": 9,
   "id": "875d88f5",
   "metadata": {},
   "outputs": [
    {
     "data": {
      "text/plain": [
       "True"
      ]
     },
     "execution_count": 9,
     "metadata": {},
     "output_type": "execute_result"
    }
   ],
   "source": [
    "def kiemtramatkhau(x):\n",
    "    kt_hoa = False\n",
    "    kt_thuong = False\n",
    "    kt_so = False\n",
    "    kt_dacbiet = False\n",
    "    for i in x:\n",
    "        if i.isupper():\n",
    "            kt_hoa = True\n",
    "        if i.islower():\n",
    "            kt_thuong = True\n",
    "        if i.isnumeric():\n",
    "            kt_so = True\n",
    "        else:\n",
    "            kt_dacbiet = True\n",
    "        if kt_hoa and kt_thuong and kt_so and kt_dacbiet:\n",
    "            return True\n",
    "    return False\n",
    "kiemtramatkhau(\"anhKhoi@181\")\n",
    "              "
   ]
  },
  {
   "cell_type": "markdown",
   "id": "1572568f",
   "metadata": {},
   "source": [
    "### Bài 4\n",
    "\n",
    "Viết hàm có 5 dữ liệu đầu vào là 5 số nguyên, tìm giá trị lớn nhì trong 5 số đó"
   ]
  },
  {
   "cell_type": "code",
   "execution_count": 3,
   "id": "876707ae",
   "metadata": {},
   "outputs": [
    {
     "name": "stdout",
     "output_type": "stream",
     "text": [
      "nhập số thứ 1 12\n",
      "nhập số thứ 2 42\n",
      "nhập số thứ 3 23\n",
      "nhập số thứ 4 11\n",
      "nhập số thứ 5 10\n",
      "42\n"
     ]
    }
   ],
   "source": [
    "def sosanh(st1,st2,st3,st4,st5):\n",
    "    \n",
    "    khoangtrang = ''\n",
    "    a = st1+' '+st2+' '+st3+' '+st4+' '+st5+' '  \n",
    "    if int(st1) > int(st2):\n",
    "        max,max2 = int(st1),int(st2)\n",
    "    else:\n",
    "        max,max2 = int(st2),int(st1)\n",
    "    for i in range(a.count(' ')):\n",
    "        khoangtrang = a.find(' ')\n",
    "        c = a[0:khoangtrang]\n",
    "        a = a[(khoangtrang+1):len(a)]\n",
    "        if int(c) > max2:\n",
    "            if int(c) > max:\n",
    "                max2, max = max, int(c)\n",
    "            else:\n",
    "                max2 = int(c)\n",
    "    print(max2)      \n",
    "        \n",
    "st1 = input(\"nhập số thứ 1 \")  \n",
    "st2 = input(\"nhập số thứ 2 \")  \n",
    "st3 = input(\"nhập số thứ 3 \")  \n",
    "st4 = input(\"nhập số thứ 4 \")   \n",
    "st5 = input(\"nhập số thứ 5 \")\n",
    "sosanh(st1,st2,st3,st4,st5)"
   ]
  },
  {
   "cell_type": "markdown",
   "id": "974d7da1",
   "metadata": {},
   "source": [
    "### Bài 5\n",
    "\n",
    "Nhập vào 2 cặp tọa độ tâm đường tròn và 2 bán kính R\n",
    "\n",
    "Hãy vẽ 2 hình tròn theo tọa độ và bán kính trên (tọa độ thứ nhất và bán kính thứ nhất là hình tròn thứ nhất, tọa độ thứ 2 với bán kính thứ 2 là hình tròn thứ hai)\n",
    "\n",
    "Viết hàm kiểm tra xem 2 hình tròn trên cắt nhau bao nhiêu điểm"
   ]
  },
  {
   "cell_type": "code",
   "execution_count": 4,
   "id": "f7722021",
   "metadata": {},
   "outputs": [
    {
     "name": "stdout",
     "output_type": "stream",
     "text": [
      "1\n"
     ]
    }
   ],
   "source": [
    "import turtle\n",
    "\n",
    "t = turtle.Turtle()\n",
    "\n",
    "x1 = 0\n",
    "y1 = 50\n",
    "r1 = 50\n",
    "x2 = 0\n",
    "y2 = 0\n",
    "r2 = 100\n",
    "\n",
    "def ham5(x1,y1,r1,x2,y2,r2):\n",
    "    d = ((x1 - x2)**2 + (y1 - y2)**2)**0.5 ## khoảng cách 2 tâm\n",
    "    if d > r1 + r2:\n",
    "        return 0\n",
    "    if d == r1 + r2:\n",
    "        return 1\n",
    "    if d == abs(r1 - r2):\n",
    "        if d == 0 and r1 == r2:\n",
    "            return -1 ## cắt tại vô số điểm (trùng nhau)\n",
    "        return 1\n",
    "    if d < abs(r1 - r2):\n",
    "        return 0\n",
    "    return 2\n",
    "\n",
    "def vehinhtron(x,y,r):\n",
    "    t.pu()\n",
    "    t.goto(x,y-r)\n",
    "    t.pd()\n",
    "    t.circle(r)\n",
    "    \n",
    "print(ham5(x1,y1,r1,x2,y2,r2))\n",
    "vehinhtron(x1,y1,r1)\n",
    "vehinhtron(x2,y2,r2)"
   ]
  },
  {
   "cell_type": "markdown",
   "id": "a2157de8",
   "metadata": {},
   "source": [
    "### Bài 6\n",
    "\n",
    "Nhập vào 2 tọa độ là 2 đỉnh của một hình chữ nhật\n",
    "\n",
    "Sau đó\n",
    "\n",
    "Nhập vào tọa độ tâm đường tròn và bán kính R\n",
    "\n",
    "Hãy vẽ hình hình chữ nhật và đường tròn trên\n",
    "\n",
    "Viết hàm kiểm tra xem đường tròn trên và hình chữ nhật cắt nhau tại bao nhiêu điểm"
   ]
  },
  {
   "cell_type": "code",
   "execution_count": null,
   "id": "e0d7b1a2",
   "metadata": {},
   "outputs": [],
   "source": []
  },
  {
   "cell_type": "markdown",
   "id": "d1491579",
   "metadata": {},
   "source": [
    "### Bài 7\n",
    "\n",
    "Viết hàm kiểm tra số nguyên tố\n",
    "\n",
    "Viết hàm kiểm tra số hoàn hảo\n",
    "\n",
    "Viết hàm kiểm tra số chính phương\n",
    "\n",
    "Viết hàm kiểm tra số Armstrong\n",
    "\n",
    "Nhập vào một chuỗi, hãy lọc và tìm ra những số ở trong chuỗi (2 chữ số liền nhau là một chuỗi)\n",
    "\n",
    "Ví dụ chuỗi: \"AB25SDc5DSjjh52\"\n",
    "\n",
    "Trong chuỗi này ta có 3 số: 25, 5 và 52\n",
    "\n",
    "Sau khi lọc số, dùng các hàm trên để kiểm tra và thực hiện như sau:\n",
    "\n",
    "Cho biến S\n",
    "\n",
    "- Nếu số đó là số nguyên tố, ta thực hiện S += số đó\n",
    "- Nếu số đó là số hoàn hảo, ta thực hiện S -= số đó\n",
    "- Nếu số đó là số chính phương, ta thực hiện S /= số đó\n",
    "- Nếu đó là số Armstrong ta cho S = 0\n",
    "\n",
    "Hãy tính và in S"
   ]
  },
  {
   "cell_type": "code",
   "execution_count": null,
   "id": "0b699e33",
   "metadata": {},
   "outputs": [],
   "source": []
  }
 ],
 "metadata": {
  "kernelspec": {
   "display_name": "Python 3 (ipykernel)",
   "language": "python",
   "name": "python3"
  },
  "language_info": {
   "codemirror_mode": {
    "name": "ipython",
    "version": 3
   },
   "file_extension": ".py",
   "mimetype": "text/x-python",
   "name": "python",
   "nbconvert_exporter": "python",
   "pygments_lexer": "ipython3",
   "version": "3.10.4"
  }
 },
 "nbformat": 4,
 "nbformat_minor": 5
}
