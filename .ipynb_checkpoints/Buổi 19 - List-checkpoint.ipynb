{
 "cells": [
  {
   "cell_type": "markdown",
   "id": "fad0ff18",
   "metadata": {},
   "source": [
    "# List\n",
    "\n",
    "### Đặt vấn đề\n",
    "\n",
    "Nếu như ta có một lượng dữ liệu không biết trước được số lượng cần lưu vào biến, ta không thể lưu bằng cách thông thường\n",
    "\n",
    "Lấy ví dụ:\n",
    "\n",
    "Nhập vào số n, sau đó nhập tiếp n số và lưu trữ n số đó vào biến\n",
    "\n",
    "Vậy ta hoàn toàn không biết được người dùng sẽ nhập bao nhiêu số để lưu trữ\n",
    "\n",
    "Lúc này ta cần đến List\n",
    "\n",
    "List giúp chúng ta lưu nhiều giá trị cùng 1 lúc, nhưng chỉ cần đặt tên cho nó lần\n",
    "\n",
    "##### Tài liệu tham khảo: https://www.w3schools.com/python/python_lists.asp"
   ]
  },
  {
   "cell_type": "markdown",
   "id": "4ca9e91e",
   "metadata": {},
   "source": [
    "### Cách thức khai báo List\n",
    "\n",
    "Cú pháp:\n",
    "\n",
    "`<tên list> = []`\n",
    "\n",
    "##### List được khai báo bằng 2 dấu ngoặc vuông\n",
    "\n",
    "<b> Ví dụ 1: </b>\n",
    "\n",
    "`a = []`\n",
    "\n",
    "a là một list, không có bất kỳ phần tử nào trong đó\n",
    "\n",
    "<b> Ví dụ 2: </b>\n",
    "\n",
    "`b = [1,2,3]`\n",
    "\n",
    "##### Các phần tử trong list được khai báo, mỗi phần tử cách nhau một dấu phẩy\n",
    "\n",
    "b là một list có 3 phần tử\n",
    "\n",
    "<b> Ví dụ 3: </b>\n",
    "\n",
    "`c = [\"abc\",5,1.5]`\n",
    "\n",
    "##### Các phần tử trong list có thể có những kiểu dữ liệu khác nhau\n",
    "\n",
    "c là một list có 3 phần tử, phần tử thứ nhất có kiểu dữ liệu là chuỗi, phần tử thứ hai có kiểu dữ liệu là số nguyên và phần tử cuối cùng có kiểu dữ liệu là số thực\n",
    "\n",
    "<b> Hãy khai báo một list xong rồi in list đó lên màn hình </b>"
   ]
  },
  {
   "cell_type": "code",
   "execution_count": 1,
   "id": "c2f37351",
   "metadata": {},
   "outputs": [
    {
     "name": "stdout",
     "output_type": "stream",
     "text": [
      "['hello', 1, 2, 2]\n"
     ]
    }
   ],
   "source": [
    "L = [\"hello\",1,2,2]\n",
    "print(L)"
   ]
  },
  {
   "cell_type": "markdown",
   "id": "be8e19b0",
   "metadata": {},
   "source": [
    "### Truy xuất phần tử trong List\n",
    "\n",
    "Giống như chuỗi, các phần tử trong list được truy xuất theo cú pháp:\n",
    "\n",
    "`<tên list>[<vị trí của phần tử>]`\n",
    "\n",
    "<b> Ví dụ 1: </b>\n",
    "\n",
    "`a = [1,4,6]\n",
    "print(a[1])`\n",
    "\n",
    "Màn hình sẽ in ra 4\n",
    "\n",
    "<b> Hãy khai báo một list có một chuỗi và một số rồi in chuỗi trong list đó ra màn hình </b>"
   ]
  },
  {
   "cell_type": "code",
   "execution_count": 2,
   "id": "bb3f9141",
   "metadata": {},
   "outputs": [
    {
     "name": "stdout",
     "output_type": "stream",
     "text": [
      "say hello\n"
     ]
    }
   ],
   "source": [
    "\n",
    "print(L[0])"
   ]
  },
  {
   "cell_type": "code",
   "execution_count": 8,
   "id": "570486db",
   "metadata": {},
   "outputs": [
    {
     "name": "stdout",
     "output_type": "stream",
     "text": [
      "hello\n"
     ]
    }
   ],
   "source": [
    "L = ['say hello',2]\n",
    "print(L[0][4:])"
   ]
  },
  {
   "cell_type": "code",
   "execution_count": 4,
   "id": "750d2c6b",
   "metadata": {},
   "outputs": [
    {
     "name": "stdout",
     "output_type": "stream",
     "text": [
      "s\n"
     ]
    }
   ],
   "source": [
    "L = ['say hello',2]\n",
    "print(L[0][:1])"
   ]
  },
  {
   "cell_type": "markdown",
   "id": "ad61e236",
   "metadata": {},
   "source": [
    "### Thêm phần tử vào List\n",
    "\n",
    "Cú pháp:\n",
    "\n",
    "`<tên list>.append()`\n",
    "\n",
    "<b>Ví dụ:</b>\n",
    "\n",
    "`a = []\n",
    "a.append(5)`\n",
    "\n",
    "a sẽ có 1 phần tử là 5\n",
    "\n",
    "<b> Hãy khai báo một list rỗng, rồi thêm 2 phần tử bất kỳ vào list đó, sau đó in list đó ra</b>"
   ]
  },
  {
   "cell_type": "code",
   "execution_count": 11,
   "id": "5823ddca",
   "metadata": {},
   "outputs": [
    {
     "name": "stdout",
     "output_type": "stream",
     "text": [
      "['hello', 2]\n"
     ]
    }
   ],
   "source": [
    "L = []\n",
    "L.append('hello')\n",
    "L.append(2)\n",
    "print(L)"
   ]
  },
  {
   "cell_type": "markdown",
   "id": "8c92d3d3",
   "metadata": {},
   "source": [
    "### Thay đổi giá trị của List\n",
    "\n",
    "Cú pháp:\n",
    "\n",
    "`<tên list>[<vị trí của phần tử>] = <giá trị mới>`\n",
    "\n",
    "<b> Hãy khai báo một list bất kỳ, rồi thay đổi 1 phần tử trong nó, sau đó in list đó ra</b>"
   ]
  },
  {
   "cell_type": "code",
   "execution_count": 12,
   "id": "13c61075",
   "metadata": {},
   "outputs": [
    {
     "name": "stdout",
     "output_type": "stream",
     "text": [
      "['good bye', 2]\n"
     ]
    }
   ],
   "source": [
    "L = ['hello',2]\n",
    "L[0] = ('good bye')\n",
    "print(L)"
   ]
  },
  {
   "cell_type": "markdown",
   "id": "ce14eefe",
   "metadata": {},
   "source": [
    "### Xóa 1 phần tử trong list\n",
    "\n",
    "#### Lệnh remove()\n",
    "\n",
    "Cú pháp:\n",
    "\n",
    "`<tên list>.remove(<giá trị cần xóa>)`\n",
    "\n",
    "<b>Ví dụ:</b>\n",
    "\n",
    "`a = [\"hi\",3,\"hello\",4]\n",
    "a.remove(\"hi\")`\n",
    "\n",
    "Sau khi thực hiện lệnh trên, a chỉ còn [3,\"hello\",4]\n",
    "\n",
    "<b> Hãy khai báo một list bất kỳ, rồi xóa 1 phần tử trong nó bằng lệnh remove(), sau đó in list đó ra</b>"
   ]
  },
  {
   "cell_type": "code",
   "execution_count": 13,
   "id": "f79402ad",
   "metadata": {},
   "outputs": [
    {
     "name": "stdout",
     "output_type": "stream",
     "text": [
      "[]\n"
     ]
    }
   ],
   "source": [
    "l = [2,5,2,5,1,3]\n",
    "l = []\n",
    "print(l)"
   ]
  },
  {
   "cell_type": "code",
   "execution_count": 15,
   "id": "bde2df73",
   "metadata": {},
   "outputs": [
    {
     "name": "stdout",
     "output_type": "stream",
     "text": [
      "[]\n"
     ]
    }
   ],
   "source": [
    "l = [2,5,2,5,1,3]\n",
    "l.clear()\n",
    "print(l)"
   ]
  },
  {
   "cell_type": "code",
   "execution_count": 18,
   "id": "77099193",
   "metadata": {},
   "outputs": [
    {
     "name": "stdout",
     "output_type": "stream",
     "text": [
      "[2]\n"
     ]
    }
   ],
   "source": [
    "l = ['helo',2]\n",
    "l.remove('helo')\n",
    "print(l)"
   ]
  },
  {
   "cell_type": "markdown",
   "id": "ec66c5cc",
   "metadata": {},
   "source": [
    "#### Lệnh pop()\n",
    "\n",
    "Cú pháp:\n",
    "\n",
    "`<tên list>.pop(<vị trí cần xóa>)`\n",
    "\n",
    "<b>Ví dụ:</b>\n",
    "\n",
    "`a = [\"hi\",3,\"hello\",4]\n",
    "a.pop(3)`\n",
    "\n",
    "Sau khi thực hiện lệnh trên, a chỉ còn [\"hi\",3,\"hello\"]\n",
    "\n",
    "<b> Hãy khai báo một list bất kỳ, rồi xóa 1 phần tử trong nó bằng lệnh pop(), sau đó in list đó ra</b>"
   ]
  },
  {
   "cell_type": "code",
   "execution_count": 19,
   "id": "eeaa0766",
   "metadata": {},
   "outputs": [
    {
     "name": "stdout",
     "output_type": "stream",
     "text": [
      "[2]\n"
     ]
    }
   ],
   "source": [
    "l = ['helo',2]\n",
    "l.pop(0)\n",
    "print(l)"
   ]
  },
  {
   "cell_type": "markdown",
   "id": "96daac1c",
   "metadata": {},
   "source": [
    "### Sao chép list\n",
    "\n",
    "###### Lưu ý: Nếu ta có list a, ta thực hiện lệnh b = a, list b sẽ bị ảnh hưởng khi list a có sự thay đổi\n",
    "\n",
    "<b> Ví dụ: </b>\n",
    "\n",
    "`a = [5,7,1]\n",
    "b = a\n",
    "a.remove(5)`\n",
    "\n",
    "Khi thực hiện 3 lệnh trên, b sẽ bằng [7,1], dù cho ta thực hiện lệnh `b = a` trước `a.remove(5)`\n",
    "\n",
    "<b> Kiểm chứng sự ảnh hưởng khi gán list </b>"
   ]
  },
  {
   "cell_type": "code",
   "execution_count": 20,
   "id": "1dbdf54b",
   "metadata": {},
   "outputs": [
    {
     "name": "stdout",
     "output_type": "stream",
     "text": [
      "['helo']\n",
      "['helo']\n"
     ]
    }
   ],
   "source": [
    "l = ['helo',2]\n",
    "b = l\n",
    "l.remove(2)\n",
    "print(l)\n",
    "print(b)"
   ]
  },
  {
   "cell_type": "markdown",
   "id": "c9c51aad",
   "metadata": {},
   "source": [
    "### Lệnh copy()\n",
    "\n",
    "Cú pháp:\n",
    "\n",
    "`<tên list>.copy()`\n",
    "\n",
    "##### Dùng lệnh copy sẽ khắc phục được vấn đề gán list a cho b\n",
    "\n",
    "<b> Ví dụ: </b>\n",
    "\n",
    "`a = [5,7,1]\n",
    "b = a.copy()\n",
    "a.remove(5)`\n",
    "\n",
    "Khi thực hiện 3 lệnh trên, b vẫn sẽ bằng [5,7,1]\n",
    "\n",
    "Lúc này, b sẽ là một list mới độc lập hoàn toàn với a\n",
    "\n",
    "<b> Khai báo list a, dùng lệnh copy cho list b, rồi thêm phần tử vào list a, sau đó in cả 2 list lên màn hình</b>"
   ]
  },
  {
   "cell_type": "code",
   "execution_count": 21,
   "id": "46759662",
   "metadata": {},
   "outputs": [
    {
     "name": "stdout",
     "output_type": "stream",
     "text": [
      "['helo']\n",
      "['helo', 2]\n"
     ]
    }
   ],
   "source": [
    "l = ['helo',2]\n",
    "b = l.copy()\n",
    "l.remove(2)\n",
    "print(l)\n",
    "print(b)"
   ]
  },
  {
   "cell_type": "markdown",
   "id": "d8f470e0",
   "metadata": {},
   "source": [
    "### Lệnh len()\n",
    "\n",
    "Tương tự như chuỗi, ta có thể dùng lệnh len cho list để trả về số lượng của list\n",
    "\n",
    "<b> Ví dụ:</b>\n",
    "\n",
    "`a = [3,\"Hello\",5,\"hi\"]\n",
    "b = len(a)`\n",
    "\n",
    "Giá trị của b là 4\n",
    "\n",
    "<b> Khai báo list a, in lên độ dài của list a </b>"
   ]
  },
  {
   "cell_type": "code",
   "execution_count": 22,
   "id": "dfbcf0db",
   "metadata": {},
   "outputs": [
    {
     "name": "stdout",
     "output_type": "stream",
     "text": [
      "['helo', 2]\n",
      "2\n"
     ]
    }
   ],
   "source": [
    "l = ['helo',2]\n",
    "b = len(l)\n",
    "print(l)\n",
    "print(b)"
   ]
  },
  {
   "cell_type": "code",
   "execution_count": 31,
   "id": "9aaedd18",
   "metadata": {},
   "outputs": [
    {
     "name": "stdout",
     "output_type": "stream",
     "text": [
      "[5, 'hello', 1, 'hi']\n"
     ]
    }
   ],
   "source": [
    "a = [5,\"hello\",1,\"hi\"]\n",
    "b = a[:5]\n",
    "print(b)"
   ]
  },
  {
   "cell_type": "markdown",
   "id": "8ac29b78",
   "metadata": {},
   "source": [
    "### Duyệt list bằng lệnh for\n",
    "\n",
    "<b> Duyệt list với vị trí </b>"
   ]
  },
  {
   "cell_type": "code",
   "execution_count": 32,
   "id": "1be33622",
   "metadata": {},
   "outputs": [
    {
     "name": "stdout",
     "output_type": "stream",
     "text": [
      "helo\n",
      "2\n"
     ]
    }
   ],
   "source": [
    "l = ['helo',2]\n",
    "for i in range(len(l)):\n",
    "    print(l[i])\n"
   ]
  },
  {
   "cell_type": "markdown",
   "id": "53b6e6eb",
   "metadata": {},
   "source": [
    "<b> Duyệt list với giá trị từng phần tử</b>"
   ]
  },
  {
   "cell_type": "code",
   "execution_count": 33,
   "id": "cdf22aa3",
   "metadata": {},
   "outputs": [
    {
     "name": "stdout",
     "output_type": "stream",
     "text": [
      "helo\n",
      "2\n"
     ]
    }
   ],
   "source": [
    "l = ['helo',2]\n",
    "for i in l:\n",
    "    print(i)"
   ]
  },
  {
   "cell_type": "code",
   "execution_count": 38,
   "id": "6916e060",
   "metadata": {},
   "outputs": [
    {
     "name": "stdout",
     "output_type": "stream",
     "text": [
      "['helo', 2, 'good bye', 'good bye', 'good bye']\n",
      "5\n"
     ]
    }
   ],
   "source": [
    "l = ['helo',2]\n",
    "for i in range(1,10):\n",
    "    if i%3 != 0:\n",
    "        l.append('good bye')\n",
    "    else:\n",
    "        l.remove('good bye')\n",
    "print(l)\n",
    "print(len(l))\n",
    "    "
   ]
  },
  {
   "cell_type": "markdown",
   "id": "3fcda853",
   "metadata": {},
   "source": [
    "### Bài tập"
   ]
  },
  {
   "cell_type": "markdown",
   "id": "72d9a5fa",
   "metadata": {},
   "source": [
    "Nhập vào một dãy số nguyên dương (ngưng nhập nếu người dùng nhập -1)\n",
    "\n",
    "Sau khi nhập hãy:\n",
    "- In ra số lớn nhất trong dãy\n",
    "- In ra số bé nhất trong dãy\n",
    "- In ra dãy số nguyên tố tìm được trong dãy vừa nhập"
   ]
  },
  {
   "cell_type": "code",
   "execution_count": 40,
   "id": "38805cc0",
   "metadata": {},
   "outputs": [
    {
     "name": "stdout",
     "output_type": "stream",
     "text": [
      "Nhập vào số thứ 1:2\n",
      "Nhập vào số thứ 2:5\n",
      "Nhập vào số thứ 3:6\n",
      "Nhập vào số thứ 4:7\n",
      "Nhập vào số thứ 5:6\n",
      "Nhập vào số thứ 6:-1\n",
      "[2, 5, 6, 7, 6]\n"
     ]
    }
   ],
   "source": [
    "dem = 1\n",
    "a = int(input(\"Nhập vào số thứ \" + str(dem) + \":\"))\n",
    "L = []\n",
    "while a != -1:\n",
    "    L.append(a)\n",
    "    dem += 1\n",
    "    a = int(input(\"Nhập vào số thứ \" +str(dem) + \":\"))\n",
    "print(L)\n",
    "    \n"
   ]
  },
  {
   "cell_type": "code",
   "execution_count": 3,
   "id": "f662824f",
   "metadata": {},
   "outputs": [
    {
     "name": "stdout",
     "output_type": "stream",
     "text": [
      "Nhập vào số thứ 1:2\n",
      "Nhập vào số thứ 2:5\n",
      "Nhập vào số thứ 3:8\n",
      "Nhập vào số thứ 4:64\n",
      "Nhập vào số thứ 5:3\n",
      "Nhập vào số thứ 6:-1\n",
      "[2, 5, 8, 64, 3]\n",
      "64\n",
      "2\n",
      "[2, 5, 3]\n"
     ]
    }
   ],
   "source": [
    "dem = 1\n",
    "a = int(input(\"Nhập vào số thứ \" + str(dem) + \":\"))\n",
    "L = []\n",
    "while a != -1:\n",
    "    L.append(a)\n",
    "    dem += 1\n",
    "    a = int(input(\"Nhập vào số thứ \" + str(dem) + \":\"))\n",
    "\n",
    "print(L)\n",
    "ma = L[0]\n",
    "for i in L:\n",
    "    if ma < i:\n",
    "        ma = i\n",
    "print(ma)\n",
    "\n",
    "mi = L[0]\n",
    "for i in L:\n",
    "    if mi > i:\n",
    "        mi = i\n",
    "print(mi)\n",
    "\n",
    "def songuyento(a):\n",
    "    if a < 2: return False\n",
    "    for i in range(2,a):\n",
    "        if a % i == 0:\n",
    "            return False\n",
    "    return True\n",
    "\n",
    "L_snt = []\n",
    "for i in L:\n",
    "    if songuyento(i):\n",
    "        L_snt.append(i)\n",
    "print(L_snt)"
   ]
  },
  {
   "cell_type": "markdown",
   "id": "f493bb3e",
   "metadata": {},
   "source": [
    "Viết hàm với dữ liệu đầu vào bao gồm 3 tham số: list, a, b. Hàm này có công dụng tìm số lớn nhất trong đoạn từ vị trí a đến vị trí b trong list."
   ]
  },
  {
   "cell_type": "code",
   "execution_count": 1,
   "id": "a730c2f8",
   "metadata": {},
   "outputs": [
    {
     "name": "stdout",
     "output_type": "stream",
     "text": [
      "12\n"
     ]
    }
   ],
   "source": [
    "L = [1,3,6,4,8,12,9,213,2]\n",
    "\n",
    "def ham(L,a,b):\n",
    "    ma = L[a]\n",
    "    for i in range(a+1,b+1):\n",
    "        if ma < L[i]:\n",
    "            ma = L[i]\n",
    "    return ma\n",
    "\n",
    "print(ham(L,2,6))"
   ]
  },
  {
   "cell_type": "markdown",
   "id": "87acccb8",
   "metadata": {},
   "source": [
    "Viết hàm có tham số đầu vào là list, giá trị trả về là số lượng số nguyên tố bé hơn 100 trong list"
   ]
  },
  {
   "cell_type": "code",
   "execution_count": 5,
   "id": "c605991d",
   "metadata": {},
   "outputs": [
    {
     "name": "stdout",
     "output_type": "stream",
     "text": [
      "3\n"
     ]
    }
   ],
   "source": [
    "\n",
    "\n",
    "def songuyento(a):\n",
    "    if a < 2: return False\n",
    "    for i in range(2,a):\n",
    "        if a % i == 0:\n",
    "            return False\n",
    "    return True\n",
    "\n",
    "def demsnt(L):\n",
    "    count = 0\n",
    "    for i in L:\n",
    "        if i < 100 and songuyento(i): ## để i < 100 lên đằng trước sẽ tối ưu hơn vì sẽ kiểm tra i có bé hơn 100 không trước\n",
    "            count += 1\n",
    "    return count\n",
    "\n",
    "print(demsnt([1,2,3,58,96,201,11,9]))"
   ]
  },
  {
   "cell_type": "markdown",
   "id": "13840ec8",
   "metadata": {},
   "source": [
    "Viết hàm tìm giá trị dương đầu tiên của list, nếu không có giá trị dương trả về -1"
   ]
  },
  {
   "cell_type": "code",
   "execution_count": 3,
   "id": "d7ffb2b7",
   "metadata": {},
   "outputs": [
    {
     "data": {
      "text/plain": [
       "2"
      ]
     },
     "execution_count": 3,
     "metadata": {},
     "output_type": "execute_result"
    }
   ],
   "source": [
    "\n",
    "L = [-3,-4,2,3,4,5,-1]\n",
    "\n",
    "def timsd(L):\n",
    "    dem = 0\n",
    "    for i in L:\n",
    "        if i < 0:\n",
    "            dem += 1\n",
    "            \n",
    "        else:\n",
    "            return i\n",
    "    return -1\n",
    "timsd(L)"
   ]
  },
  {
   "cell_type": "code",
   "execution_count": 4,
   "id": "64313d3c",
   "metadata": {},
   "outputs": [
    {
     "data": {
      "text/plain": [
       "2"
      ]
     },
     "execution_count": 4,
     "metadata": {},
     "output_type": "execute_result"
    }
   ],
   "source": [
    "L = [-3,-4,2,3,4,5,-1]\n",
    "\n",
    "def timsd(L):\n",
    "    \n",
    "    for i in L:\n",
    "        if i > 0:\n",
    "            return i\n",
    "    return -1\n",
    "timsd(L)"
   ]
  },
  {
   "cell_type": "markdown",
   "id": "0f71c71e",
   "metadata": {},
   "source": [
    "Viết hàm có 2 giá trị đầu vào là list và x. Tìm giá trị trong list xa x nhất"
   ]
  },
  {
   "cell_type": "code",
   "execution_count": 6,
   "id": "03ef7d4c",
   "metadata": {},
   "outputs": [
    {
     "name": "stdout",
     "output_type": "stream",
     "text": [
      "42\n"
     ]
    }
   ],
   "source": [
    "def timgiatri(L,x):\n",
    "    m = L[0]\n",
    "    for i in range(1,len(L)):\n",
    "        if abs(L[i] - x) > abs(m - x):\n",
    "            m = L[i]\n",
    "    return m\n",
    "\n",
    "print(timgiatri([5,7,4,42,12,4,5],5))"
   ]
  },
  {
   "cell_type": "markdown",
   "id": "3b634d0f",
   "metadata": {},
   "source": [
    "Một người dùng số tiền là U đô-la và V Euro để mua một loại nguyên liệu sản xuất. \n",
    "\n",
    "Có N công ty nước ngoài bán nguyên liệu trên được đánh số từ 1 đến N. Công ty thứ i có giá bán Ai đô la/1 kg nguyên liệu và Bi Euro/1 kg nguyên liệu. \n",
    "\n",
    "Tuy nhiên, tại mỗi công ty chỉ bán nguyên liệu cho một khách hàng hoặc theo đô-la, hoặc theo Euro. \n",
    "\n",
    "Hãy giúp người đó tìm cách chọn ra 2 công ty để mua hàng sao cho số lượng nguyên liệu sản xuất có thể mua được là nhiều nhất.\n",
    "\n",
    "Nhập vào: Từ bàn phím 3 số theo thứ tự : N U V (1 ≤ N ≤ 20; 1 ≤ U, V ≤ 1000) và N cặp số nguyên Ai, Bi (1 < Ai, Bi < 1000) (nhập lần lượng A1, B1 rồi A2, B2)\n",
    "\n",
    "In ra : Số lượng nguyên liệu S(kg) người đó mua được với 2 chữ số thập phân."
   ]
  },
  {
   "cell_type": "code",
   "execution_count": 8,
   "id": "677abefe",
   "metadata": {},
   "outputs": [
    {
     "name": "stdout",
     "output_type": "stream",
     "text": [
      "1 4 36.67\n"
     ]
    }
   ],
   "source": [
    "## Tuy nhiên, tại mỗi công ty chỉ bán nguyên liệu cho một khách hàng hoặc theo đô-la, hoặc theo Euro\n",
    "## Tức là một công ty sẽ có 2 giá bán theo dola và euro, khách hàng chỉ được chọn mua theo 1 giá bán\n",
    "U = [10,6,8,9,5]\n",
    "V = [8,7,11,10,5]\n",
    "n = len(U)\n",
    "so_dola = 100\n",
    "so_euro = 100\n",
    "m = 0\n",
    "cty_dola = 0\n",
    "cty_euro = 0\n",
    "### cách này không cần suy nghĩ gì nhiều, máy lo hết (máy chạy lâu)\n",
    "for i in range(n):\n",
    "    for j in range(n):\n",
    "        if i != j:\n",
    "            kl = so_dola/U[i] + so_euro/V[j]\n",
    "            if kl > m:\n",
    "                m = kl\n",
    "                cty_dola = i\n",
    "                cty_euro = j\n",
    "print(cty_dola,cty_euro,round(m,2))"
   ]
  },
  {
   "cell_type": "code",
   "execution_count": 7,
   "id": "90401e4e",
   "metadata": {},
   "outputs": [
    {
     "name": "stdout",
     "output_type": "stream",
     "text": [
      "36.67\n"
     ]
    }
   ],
   "source": [
    "U = [10,6,8,9,5]\n",
    "V = [8,7,11,10,5]\n",
    "n = len(U)\n",
    "so_dola = 100\n",
    "so_euro = 100\n",
    "\n",
    "def timvtmin(L):\n",
    "    vt = 0\n",
    "    for i in range(1,len(L)):\n",
    "        if L[vt] > L[i]:\n",
    "            vt = i\n",
    "    return vt\n",
    "\n",
    "vt_dola_min = timvtmin(U) ## tìm vị trí của công ty bán rẻ nhất theo Dola\n",
    "vt_euro_min = timvtmin(V) ## tìm vị trí của công ty bán rẻ nhất theo Euro\n",
    "\n",
    "if vt_dola_min != vt_euro_min:\n",
    "    kg = so_dola/U[vt_dola_min] + so_euro/V[vt_euro_min]\n",
    "    print(round(kg,2))\n",
    "else:\n",
    "    giatri_dola_min = U[vt_dola_min]\n",
    "    giatri_euro_min = V[vt_euro_min]\n",
    "    U.pop(vt_dola_min) ## xóa đi công ty có giá min theo dola\n",
    "    V.pop(vt_euro_min) ## xóa đi công ty có giá min theo euro\n",
    "    vt_dola_min_nhi = timvtmin(U)\n",
    "    vt_euro_min_nhi = timvtmin(V)\n",
    "    giatri_dola_min_nhi = U[vt_dola_min_nhi]\n",
    "    giatri_euro_min_nhi = V[vt_euro_min_nhi]\n",
    "    kg1 = so_dola/giatri_dola_min + so_euro/giatri_euro_min_nhi\n",
    "    kg2 = so_dola/giatri_dola_min_nhi + so_euro/giatri_euro_min\n",
    "    if kg1 > kg2:\n",
    "        print(round(kg1,2))\n",
    "    else:\n",
    "        print(round(kg2,2))"
   ]
  }
 ],
 "metadata": {
  "kernelspec": {
   "display_name": "Python 3 (ipykernel)",
   "language": "python",
   "name": "python3"
  },
  "language_info": {
   "codemirror_mode": {
    "name": "ipython",
    "version": 3
   },
   "file_extension": ".py",
   "mimetype": "text/x-python",
   "name": "python",
   "nbconvert_exporter": "python",
   "pygments_lexer": "ipython3",
   "version": "3.10.4"
  }
 },
 "nbformat": 4,
 "nbformat_minor": 5
}
