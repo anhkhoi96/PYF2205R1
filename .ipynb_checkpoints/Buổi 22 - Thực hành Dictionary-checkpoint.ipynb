{
 "cells": [
  {
   "cell_type": "markdown",
   "id": "636d6b20",
   "metadata": {},
   "source": [
    "# Thực hành Dictionary"
   ]
  },
  {
   "cell_type": "markdown",
   "id": "4a1577c4",
   "metadata": {},
   "source": [
    "### Bài 1"
   ]
  },
  {
   "cell_type": "markdown",
   "id": "57583ad7",
   "metadata": {},
   "source": [
    "Cho list a và list b là 2 dãy số bất kỳ\n",
    "\n",
    "Hãy tìm những phần tử trong 2 list trùng nhau và in toàn bộ ra màn hình\n",
    "\n",
    "Ví dụ:\n",
    "\n",
    "a = [2,4,5,7,9]\n",
    "\n",
    "b = [2,5,10,12,45,65]\n",
    "\n",
    "in ra: 2, 5"
   ]
  },
  {
   "cell_type": "markdown",
   "id": "3bf52ad2",
   "metadata": {},
   "source": [
    "#### Khai báo list"
   ]
  },
  {
   "cell_type": "code",
   "execution_count": 5,
   "id": "62faf662",
   "metadata": {},
   "outputs": [
    {
     "name": "stdout",
     "output_type": "stream",
     "text": [
      "2 5 "
     ]
    }
   ],
   "source": [
    "a = [2,4,5,7,9]\n",
    "b = [2,5,10,12,45,65]\n",
    "for i in a:\n",
    "    if i in b:\n",
    "        print(i,end = \" \")\n"
   ]
  },
  {
   "cell_type": "markdown",
   "id": "f7b1767c",
   "metadata": {},
   "source": [
    "#### Code"
   ]
  },
  {
   "cell_type": "code",
   "execution_count": null,
   "id": "8d0bc5c0",
   "metadata": {},
   "outputs": [],
   "source": []
  },
  {
   "cell_type": "markdown",
   "id": "2646ccba",
   "metadata": {},
   "source": [
    "### Bài 2"
   ]
  },
  {
   "cell_type": "markdown",
   "id": "6cc6dc38",
   "metadata": {},
   "source": [
    "Cho một dictonary có các giá trị là các số nguyên\n",
    "\n",
    "Hãy viết hàm tìm key có giá trị lớn nhất"
   ]
  },
  {
   "cell_type": "markdown",
   "id": "7b92f0ce",
   "metadata": {},
   "source": [
    "#### Khai báo dictionary"
   ]
  },
  {
   "cell_type": "code",
   "execution_count": 1,
   "id": "3ec8ec73",
   "metadata": {},
   "outputs": [
    {
     "name": "stdout",
     "output_type": "stream",
     "text": [
      "Nhập vào key:sn 1:\n",
      "Nhập vào giá trị:2\n",
      "Nhập vào key:sn 2:\n",
      "Nhập vào giá trị:45\n",
      "Nhập vào key:\n",
      "{'sn 1:': '2', 'sn 2:': '45'}\n"
     ]
    }
   ],
   "source": [
    "D = {}\n",
    "while True:\n",
    "    key = input(\"Nhập vào key:\")\n",
    "    if key == \"\": break\n",
    "    if key not in D:\n",
    "        value = input(\"Nhập vào giá trị:\")\n",
    "        D[key] = value\n",
    "    else:\n",
    "        print(\"Key đã tồn tại\")\n",
    "\n",
    "print(D)"
   ]
  },
  {
   "cell_type": "code",
   "execution_count": 4,
   "id": "74e9fc29",
   "metadata": {},
   "outputs": [
    {
     "name": "stdout",
     "output_type": "stream",
     "text": [
      "Nhập vào số thứ 1:-1\n",
      "[]\n"
     ]
    }
   ],
   "source": [
    "dem = 1\n",
    "a = int(input(\"Nhập vào số thứ \" + str(dem) + \":\"))\n",
    "L = []\n",
    "while a != -1:\n",
    "    L.append(a)\n",
    "    dem += 1\n",
    "    a = int(input(\"Nhập vào số thứ \" + str(dem) + \":\"))\n",
    "\n",
    "print(L)"
   ]
  },
  {
   "cell_type": "markdown",
   "id": "65018ab5",
   "metadata": {},
   "source": [
    "#### Code"
   ]
  },
  {
   "cell_type": "code",
   "execution_count": 5,
   "id": "e14200b4",
   "metadata": {},
   "outputs": [
    {
     "name": "stdout",
     "output_type": "stream",
     "text": [
      "b\n"
     ]
    }
   ],
   "source": [
    "D = {'a': -5,'b': -3,'c': -15,'d': -20,'e': -13}\n",
    "def timkeymax2(D):\n",
    "    keymax = None\n",
    "    for key in D:\n",
    "        if keymax == None or D[keymax] < D[key]:\n",
    "            keymax = key\n",
    "    return keymax\n",
    "\n",
    "print(timkeymax2(D))"
   ]
  },
  {
   "cell_type": "code",
   "execution_count": 7,
   "id": "3e4ea185",
   "metadata": {},
   "outputs": [
    {
     "name": "stdout",
     "output_type": "stream",
     "text": [
      "b\n"
     ]
    }
   ],
   "source": [
    "D = {'a': -5,'b': -3,'c': -15,'d': -20,'e': -13}\n",
    "def timkeymax(D):\n",
    "    for key in D:\n",
    "        keymax = key\n",
    "        break\n",
    "    for key in D:\n",
    "        if D[keymax] < D[key]:\n",
    "            keymax = key\n",
    "    return keymax\n",
    "    \n",
    "print(timkeymax(D))"
   ]
  },
  {
   "cell_type": "markdown",
   "id": "c562bc84",
   "metadata": {},
   "source": [
    "### Bài 3"
   ]
  },
  {
   "cell_type": "markdown",
   "id": "945e8929",
   "metadata": {},
   "source": [
    "Cho một dictonary có các key đều là chuỗi\n",
    "\n",
    "Hãy viết hàm trả về giá trị của key có độ dài chuỗi là lớn nhất"
   ]
  },
  {
   "cell_type": "markdown",
   "id": "1855bc8c",
   "metadata": {},
   "source": [
    "#### Khai báo dictionary"
   ]
  },
  {
   "cell_type": "code",
   "execution_count": null,
   "id": "5ff9a0e5",
   "metadata": {},
   "outputs": [],
   "source": [
    "D = {\"\":53,\"abasf\":6}"
   ]
  },
  {
   "cell_type": "markdown",
   "id": "21fae59d",
   "metadata": {},
   "source": [
    "#### Code"
   ]
  },
  {
   "cell_type": "code",
   "execution_count": 5,
   "id": "b3c2194d",
   "metadata": {},
   "outputs": [
    {
     "data": {
      "text/plain": [
       "5"
      ]
     },
     "execution_count": 5,
     "metadata": {},
     "output_type": "execute_result"
    }
   ],
   "source": [
    "D = {\"\":53,\"abasf\":5}\n",
    "def timkeydainhat(D):\n",
    "    keymax = \"\"\n",
    "    for i in D:\n",
    "        if len(i) > len(keymax):\n",
    "            keymax = i\n",
    "    return D[keymax]\n",
    "timkeydainhat(D)"
   ]
  },
  {
   "cell_type": "markdown",
   "id": "205c6ef4",
   "metadata": {},
   "source": [
    "### Bài 4"
   ]
  },
  {
   "cell_type": "markdown",
   "id": "bd7ee674",
   "metadata": {},
   "source": [
    "Cho một list là một tập các chuỗi\n",
    "\n",
    "Hãy mã hóa list trên theo nguyên tắc sau:\n",
    "\n",
    "Mỗi một phần tử, ta mã hóa thành những con số theo thứ tự tăng dần\n",
    "\n",
    "Ví dụ:\n",
    "\n",
    "List = [\"đen\",\"vàng\",\"xanh\",\"vàng\",\"xanh\",\"đỏ\",\"hồng\"]\n",
    "\n",
    "List mã hóa = [0,1,2,1,2,3,4]\n",
    "\n",
    "- \"đen\" mã hóa thành 0\n",
    "- \"vàng\" mã hóa thành 1\n",
    "- \"xanh\" mã hóa thành 2\n",
    "- \"đỏ\" mã hòa thánh 3\n",
    "- \"hồng\" mã hòa thành 4"
   ]
  },
  {
   "cell_type": "markdown",
   "id": "e7ed3048",
   "metadata": {},
   "source": [
    "#### Khai báo"
   ]
  },
  {
   "cell_type": "code",
   "execution_count": null,
   "id": "7573ae07",
   "metadata": {},
   "outputs": [],
   "source": [
    "List = [\"đen\",\"vàng\",\"xanh\",\"vàng\",\"xanh\",\"đỏ\",\"hồng\"]"
   ]
  },
  {
   "cell_type": "markdown",
   "id": "9c61e63b",
   "metadata": {},
   "source": [
    "#### Code"
   ]
  },
  {
   "cell_type": "code",
   "execution_count": 9,
   "id": "3e3cdf86",
   "metadata": {},
   "outputs": [
    {
     "name": "stdout",
     "output_type": "stream",
     "text": [
      "[0, 1, 2, 1, 2, 3, 4]\n"
     ]
    }
   ],
   "source": [
    "def mahoa(List):\n",
    "    dem = 0\n",
    "    D = {}\n",
    "    L = []\n",
    "    for i in List:\n",
    "        if i not in D:\n",
    "            D[i] = dem\n",
    "            dem += 1\n",
    "        L.append(D[i])\n",
    "    return L\n",
    "List = [\"đen\",\"vàng\",\"xanh\",\"vàng\",\"xanh\",\"đỏ\",\"hồng\"]\n",
    "print(mahoa(List))\n",
    "  \n",
    "    "
   ]
  },
  {
   "cell_type": "markdown",
   "id": "8de66962",
   "metadata": {},
   "source": [
    "### Bài 5"
   ]
  },
  {
   "cell_type": "markdown",
   "id": "1e5c416d",
   "metadata": {},
   "source": [
    "Hãy viết hàm từ một list mã hóa, trả về list gốc của bài 4"
   ]
  },
  {
   "cell_type": "markdown",
   "id": "4881b7b0",
   "metadata": {},
   "source": [
    "#### Khai báo"
   ]
  },
  {
   "cell_type": "code",
   "execution_count": null,
   "id": "602c7b70",
   "metadata": {},
   "outputs": [],
   "source": [
    "L = [0, 1, 2, 1, 2, 3, 4]\n",
    "D = {\"đen\":0,\"vàng\":1,\"xanh\":2,\"đỏ\":3,\"hồng\":4}"
   ]
  },
  {
   "cell_type": "markdown",
   "id": "9a738638",
   "metadata": {},
   "source": [
    "#### Code"
   ]
  },
  {
   "cell_type": "code",
   "execution_count": null,
   "id": "df4fb3a1",
   "metadata": {},
   "outputs": [],
   "source": [
    "def mahoanguoc(L,D):\n",
    "    for i in D:\n",
    "        "
   ]
  },
  {
   "cell_type": "code",
   "execution_count": 7,
   "id": "b61c1b1b",
   "metadata": {},
   "outputs": [
    {
     "name": "stdout",
     "output_type": "stream",
     "text": [
      "['Đen', 'Vàng', 'Xanh', 'Vàng', 'Xanh', 'Đỏ', 'Hồng']\n"
     ]
    }
   ],
   "source": [
    "L_mahoa = [0, 1, 2, 1, 2, 3, 4]\n",
    "D_mahoa = {'Đen':0,'Vàng':1,'Xanh':2,'Đỏ':3,'Hồng':4}\n",
    "def mahoanguoc(L_mahoa,D_mahoa):\n",
    "    L = []\n",
    "    for i in L_mahoa:\n",
    "        for j in D_mahoa:\n",
    "            if i == D_mahoa[j]:\n",
    "                \n",
    "                L.append(j)\n",
    "    return L\n",
    "print(mahoanguoc(L_mahoa,D_mahoa))"
   ]
  },
  {
   "cell_type": "code",
   "execution_count": 2,
   "id": "10ed3403",
   "metadata": {},
   "outputs": [
    {
     "name": "stdout",
     "output_type": "stream",
     "text": [
      "['Đen', 'Vàng', 'Xanh', 'Vàng', 'Xanh', 'Đỏ', 'Hồng']\n"
     ]
    }
   ],
   "source": [
    "L_mahoa = [0, 1, 2, 1, 2, 3, 4]\n",
    "D_mahoa = {'Đen':0,'Vàng':1,'Xanh':2,'Đỏ':3,'Hồng':4}\n",
    "def mahoanguoc(L_mahoa,D_mahoa):\n",
    "    D = {}\n",
    "    L = []\n",
    "    for i in D_mahoa:\n",
    "        D[D_mahoa[i]] = i\n",
    "    for i in L_mahoa:\n",
    "        L.append(D[i])\n",
    "    return L\n",
    "\n",
    "print(mahoanguoc(L_mahoa,D_mahoa))"
   ]
  },
  {
   "cell_type": "markdown",
   "id": "1a982dc5",
   "metadata": {},
   "source": [
    "### Bài 6"
   ]
  },
  {
   "cell_type": "markdown",
   "id": "726f6302",
   "metadata": {},
   "source": [
    "Một khách sạn có N phòng đôi được đánh số từ 1 đến N và M đoàn khách.\n",
    "\n",
    "Với mỗi đoàn khách, ta xếp mỗi cặp khách của đoàn vào một phòng trống theo thứ tự phòng tăng dần.\n",
    "\n",
    "Nếu đoàn khách có số người lẻ thì người khách cuối cùng được xếp vào một phòng trống tiếp theo.\n",
    "\n",
    "Nếu đã hết phòng còn trống thì ta sẽ xếp khách vào những phòng mới chỉ có 1 khách theo thứ tự phòng tăng dần.\n",
    "\n",
    "In ra số khách của mỗi phòng sau khi xếp\n",
    "\n",
    "Giả sử không có 2 đoàn khách nào đến cùng một lúc.\n",
    "\n",
    "#### Ví dụ 1:\n",
    "\n",
    "N = 7, M = 3\n",
    "\n",
    "doankhach = [3,7,3]\n",
    "\n",
    "Ta in: 2, 2, 2, 2, 2, 1, 2\n",
    "\n",
    "#### Ví dụ 2:\n",
    "\n",
    "N = 5, M = 3\n",
    "\n",
    "doankhach = [2,3,2]\n",
    "\n",
    "Ta in: 2, 2, 1, 2, 0"
   ]
  },
  {
   "cell_type": "markdown",
   "id": "e3346872",
   "metadata": {},
   "source": [
    "#### Khai báo"
   ]
  },
  {
   "cell_type": "code",
   "execution_count": 8,
   "id": "9f73da45",
   "metadata": {},
   "outputs": [
    {
     "name": "stdout",
     "output_type": "stream",
     "text": [
      "[2, 2, 2, 2, 2]\n"
     ]
    }
   ],
   "source": [
    "N = 5\n",
    "M = 3\n",
    "L_doankhach = [1,1,1,1,1,2,3]\n",
    "L_phong = [0]*N ## tạo list có N số 0\n",
    "\n",
    "def main():\n",
    "    so_phong = 0\n",
    "    hetphong = False\n",
    "    for doankhach in L_doankhach:\n",
    "        while doankhach > 0:\n",
    "            if hetphong == False: ## trường hợp còn phòng\n",
    "                if doankhach > 1: ## đoàn khách còn hơn 1 người\n",
    "                    L_phong[so_phong] = 2\n",
    "                    doankhach -= 2\n",
    "                else: ## đoàn khách chỉ còn 1 người\n",
    "                    L_phong[so_phong] = 1\n",
    "                    doankhach -= 1\n",
    "                so_phong += 1\n",
    "                if so_phong == N:\n",
    "                    so_phong = 0\n",
    "                    hetphong = True\n",
    "            else: ## trường hợp hết phòng\n",
    "                if L_phong[so_phong] == 1:\n",
    "                    L_phong[so_phong] += 1\n",
    "                    doankhach -= 1\n",
    "                so_phong += 1\n",
    "                if doankhach != 0 and so_phong == N:\n",
    "                    print(\"Không thể xếp vì phòng đã hết\")\n",
    "                    return\n",
    "                \n",
    "main()\n",
    "print(L_phong)"
   ]
  },
  {
   "cell_type": "markdown",
   "id": "8f3d747c",
   "metadata": {},
   "source": [
    "#### Code"
   ]
  },
  {
   "cell_type": "code",
   "execution_count": null,
   "id": "b19e56c9",
   "metadata": {},
   "outputs": [],
   "source": []
  }
 ],
 "metadata": {
  "kernelspec": {
   "display_name": "Python 3 (ipykernel)",
   "language": "python",
   "name": "python3"
  },
  "language_info": {
   "codemirror_mode": {
    "name": "ipython",
    "version": 3
   },
   "file_extension": ".py",
   "mimetype": "text/x-python",
   "name": "python",
   "nbconvert_exporter": "python",
   "pygments_lexer": "ipython3",
   "version": "3.10.4"
  }
 },
 "nbformat": 4,
 "nbformat_minor": 5
}
