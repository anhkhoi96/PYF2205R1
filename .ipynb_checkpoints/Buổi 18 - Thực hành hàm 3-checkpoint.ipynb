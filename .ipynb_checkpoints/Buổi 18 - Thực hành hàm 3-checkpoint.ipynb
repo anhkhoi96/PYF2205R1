{
 "cells": [
  {
   "cell_type": "markdown",
   "id": "f13965b3",
   "metadata": {},
   "source": [
    "### Bài 1\n",
    "\n",
    "Viết hàm `tientaxi` tính tiền taxi với tham số đầu vào là số km đi được và trả về số tiền\n",
    "\n",
    "- 1km đầu là 15000.\n",
    "- Từ km thứ 2 đến km thứ 10 là 14000.\n",
    "- Từ km thứ 11 đến km thứ 20 là 12500.\n",
    "- Từ km thứ 21 đến km thứ 30 là 11000.\n",
    "- Trên 30km thì mỗi km tăng thêm là 9000."
   ]
  },
  {
   "cell_type": "code",
   "execution_count": 4,
   "id": "112a50d0",
   "metadata": {},
   "outputs": [
    {
     "name": "stdout",
     "output_type": "stream",
     "text": [
      "số km đi được là :5\n"
     ]
    },
    {
     "data": {
      "text/plain": [
       "62500"
      ]
     },
     "execution_count": 4,
     "metadata": {},
     "output_type": "execute_result"
    }
   ],
   "source": [
    "def tientaxi(a):\n",
    "    st = 0\n",
    "    if a == 1:\n",
    "        st = a * 15000\n",
    "    elif 2 >= a <= 10:\n",
    "        st = a * 14000\n",
    "    elif 11 >= a <= 20:\n",
    "        st = a * 12500\n",
    "    elif 21 >= a <= 30:\n",
    "        st = a * 11000\n",
    "    else:\n",
    "        st = a * 9000\n",
    "    return st\n",
    "a = int(input(\"số km đi được là :\"))\n",
    "tientaxi(5)"
   ]
  },
  {
   "cell_type": "code",
   "execution_count": 3,
   "id": "f5ed1d33",
   "metadata": {},
   "outputs": [
    {
     "name": "stdout",
     "output_type": "stream",
     "text": [
      "nhập km:5\n",
      "70000.0\n"
     ]
    }
   ],
   "source": [
    "def tinhtien(x):\n",
    "    tien=0\n",
    "    if x<=1:\n",
    "        tien=15000*x\n",
    "    elif x<=10:\n",
    "        tien=14000*x\n",
    "    elif x<=20:\n",
    "        tien=12500*x\n",
    "    elif x<=30:\n",
    "        tien=11000*x\n",
    "    else:\n",
    "        tien=9000*x\n",
    "    return tien\n",
    "x = float(input('nhập km:'))\n",
    "print(tinhtien(x))"
   ]
  },
  {
   "cell_type": "code",
   "execution_count": 8,
   "id": "a3ee09fa",
   "metadata": {},
   "outputs": [
    {
     "data": {
      "text/plain": [
       "71000"
      ]
     },
     "execution_count": 8,
     "metadata": {},
     "output_type": "execute_result"
    }
   ],
   "source": [
    "def tientaxi(a):\n",
    "    tien = 0\n",
    "    if a > 30:\n",
    "        tien = 9000*(a-30) + 10*(11000 + 12500) + 9*14000 + 15000\n",
    "    elif a > 20:\n",
    "        tien = 11000*(a-20) + 10* 12500 + 9*14000 + 15000\n",
    "    elif a > 10:\n",
    "        tien = 12500*(a-10) + 9*14000 + 15000\n",
    "    elif a > 1:\n",
    "        tien = 14000*(a-1) + 15000\n",
    "    elif 0 < a <= 1:\n",
    "        tien = 15000\n",
    "    return tien\n",
    "tientaxi(5)"
   ]
  },
  {
   "cell_type": "markdown",
   "id": "7c40ebdb",
   "metadata": {},
   "source": [
    "### Bài 2\n",
    "\n",
    "Một hãng cung cấp dịch vụ điện thoại khuyến khích người dùng đăng ký số thuê bao mới bằng cách, khi người dùng đến đăng ký thuê báo sẽ được tặng 2 số may mắn n và k, hãng sẽ khuyến mãi cho người đó số tiền vào tài khoản từ số n sau khi xóa k chữ số\n",
    "\n",
    "Hãy viết hàm `tienkm` cho vào n và k, trả về số lớn nhất có thể sau khi xóa k chữ số trong n"
   ]
  },
  {
   "cell_type": "code",
   "execution_count": 1,
   "id": "b8b6af8f",
   "metadata": {},
   "outputs": [
    {
     "name": "stdout",
     "output_type": "stream",
     "text": [
      "987\n"
     ]
    }
   ],
   "source": [
    "n = 987654 ## xóa k chữ số sao cho ra số mới lớn nhất\n",
    "k = 2\n",
    "\n",
    "def xoachuoi(s,i):\n",
    "    return s[:i] + s[i+1:]\n",
    "\n",
    "## so sánh 2 số kế nhau, nếu số đằng trước nhỏ hơn số đằng sau thì xóa số đằng trước\n",
    "def tienkm(n,k):\n",
    "    n = str(n)\n",
    "    j = 0\n",
    "    while True:\n",
    "        if n[j] < n[j+1]:\n",
    "            n = xoachuoi(n,j)\n",
    "            k -= 1\n",
    "            if k == 0:\n",
    "                break\n",
    "        else:\n",
    "            j += 1\n",
    "            if j >= len(n) - 1:\n",
    "                break\n",
    "    if k > 0:\n",
    "        n = n[:-k]\n",
    "    return n\n",
    "        \n",
    "print(tienkm(n,3))"
   ]
  },
  {
   "cell_type": "code",
   "execution_count": 2,
   "id": "cb4ad516",
   "metadata": {},
   "outputs": [
    {
     "name": "stdout",
     "output_type": "stream",
     "text": [
      "9876\n"
     ]
    }
   ],
   "source": [
    "n = 9287654 ## xóa k chữ số sao cho ra số mới lớn nhất\n",
    "k = 2\n",
    "\n",
    "def xoachuoi(s,i):\n",
    "    return s[:i] + s[i+1:]\n",
    "\n",
    "## so sánh 2 số kế nhau, nếu số đằng trước nhỏ hơn số đằng sau thì xóa số đằng trước\n",
    "def tienkm(n,k):\n",
    "    n = str(n)\n",
    "    for i in range(k):\n",
    "        for j in range(0,len(n)-1):\n",
    "            if n[j] < n[j+1]:\n",
    "                n = xoachuoi(n,j)\n",
    "                k -= 1\n",
    "                break\n",
    "    if k > 0:\n",
    "        n = n[:-k]\n",
    "    return n\n",
    "        \n",
    "print(tienkm(n,3))"
   ]
  },
  {
   "cell_type": "markdown",
   "id": "4c877020",
   "metadata": {},
   "source": [
    "### Bài 3\n",
    "\n",
    "Cấp số cộng là một dãy số mà kể từ số hạng thứ hai trở đi thì mỗi số hạng hơn số hạng liền trước của nó k đơn vị\n",
    "\n",
    "Ví dụ:\n",
    "- 2, 4, 6, 8, 10,.. là một cấp số cộng với k là 2\n",
    "- 3, 6, 9, 12,... là một cấp số cộng với k là 3\n",
    "\n",
    "Tí đã viết được 4 số là 1 cấp số cộng nhưng Tèo lại xóa đi mất 1 số\n",
    "\n",
    "Bạn hãy viết hàm `timcsc` cho vào 3 số hạng là 3 số còn lại của cấp số cộng, trả về số bị thiếu (trong trường hợp có 2 đáp án, trả về đáp án lớn nhất)\n",
    "\n",
    "Ví dụ:\n",
    "\n",
    "- timcsc(4,6,8) kết quả là 10\n",
    "- timcsc(10,1,4) kết quả là 7"
   ]
  },
  {
   "cell_type": "code",
   "execution_count": null,
   "id": "6e1fcaf0",
   "metadata": {},
   "outputs": [],
   "source": [
    "def timcsc(a,b,c):\n",
    "    "
   ]
  },
  {
   "cell_type": "code",
   "execution_count": 9,
   "id": "3350e815",
   "metadata": {},
   "outputs": [
    {
     "name": "stdout",
     "output_type": "stream",
     "text": [
      "7\n"
     ]
    }
   ],
   "source": [
    "def timcsc(a,b,c):\n",
    "    if a>c: a,c = c,a\n",
    "    if b>c: b,c = c,b\n",
    "    if a>b: a,b = b,a\n",
    "    m1 = b-a\n",
    "    m2 = c-b\n",
    "    if m1 == m2:\n",
    "        return c+m1\n",
    "    elif m1>m2:\n",
    "        return a+m2\n",
    "    else:\n",
    "        return b+m1\n",
    "print(timcsc(10,1,4))\n"
   ]
  },
  {
   "cell_type": "code",
   "execution_count": 10,
   "id": "a414a7d0",
   "metadata": {},
   "outputs": [
    {
     "name": "stdout",
     "output_type": "stream",
     "text": [
      "Nhập a: 10\n",
      "Nhập b: 1\n",
      "Nhập c: 4\n",
      "13\n"
     ]
    }
   ],
   "source": [
    "def timcsc():\n",
    "    a = int(input(\"Nhập a: \"))\n",
    "    b = int(input(\"Nhập b: \"))\n",
    "    c = int(input(\"Nhập c: \"))\n",
    "    \n",
    "    if a > b:\n",
    "        a, b = b, a\n",
    "    if a > c:\n",
    "        a, c = c, a\n",
    "    if b > c:\n",
    "        b, c = c, b\n",
    "        \n",
    "    k = b - a\n",
    "    \n",
    "    return c + k\n",
    "\n",
    "print(timcsc())"
   ]
  }
 ],
 "metadata": {
  "kernelspec": {
   "display_name": "Python 3 (ipykernel)",
   "language": "python",
   "name": "python3"
  },
  "language_info": {
   "codemirror_mode": {
    "name": "ipython",
    "version": 3
   },
   "file_extension": ".py",
   "mimetype": "text/x-python",
   "name": "python",
   "nbconvert_exporter": "python",
   "pygments_lexer": "ipython3",
   "version": "3.10.4"
  }
 },
 "nbformat": 4,
 "nbformat_minor": 5
}
