{
 "cells": [
  {
   "cell_type": "markdown",
   "id": "73456e5e",
   "metadata": {},
   "source": [
    "# Hàm\n",
    "\n",
    "### Hàm\n",
    "\n",
    "Cú pháp:\n",
    "\n",
    "`def <tên hàm>(<tham số)>:\n",
    "    //Nội dung hàm`\n",
    "\n",
    "Gọi hàm:\n",
    "`<tên hàm>(<giá trị đầu vào>)`\n",
    "\n",
    "Ví dụ:\n",
    "\n",
    "Hãy viết 1 hàm số để tính tổng 2 số đầu vào và in nó ra màn hình"
   ]
  },
  {
   "cell_type": "code",
   "execution_count": 2,
   "id": "af5b9f6d",
   "metadata": {},
   "outputs": [
    {
     "name": "stdout",
     "output_type": "stream",
     "text": [
      "helo\n"
     ]
    }
   ],
   "source": [
    "def demo():\n",
    "    print('helo')\n",
    "demo()"
   ]
  },
  {
   "cell_type": "code",
   "execution_count": 5,
   "id": "9168c642",
   "metadata": {},
   "outputs": [
    {
     "name": "stdout",
     "output_type": "stream",
     "text": [
      "a + b = 5\n",
      "a - b = -1\n",
      "a / b = 0.6666666666666666\n",
      "a * b = 6\n"
     ]
    }
   ],
   "source": [
    "def P(a,b):\n",
    "    print('a + b','=',a+b)\n",
    "    print('a - b','=',a-b)\n",
    "    print('a / b','=',a/b)\n",
    "    print('a * b','=',a*b)\n",
    "P(2,3)"
   ]
  },
  {
   "cell_type": "code",
   "execution_count": 7,
   "id": "aedfdbf4",
   "metadata": {},
   "outputs": [
    {
     "name": "stdout",
     "output_type": "stream",
     "text": [
      "5\n",
      "3\n",
      "0.8333333333333334\n",
      "25\n"
     ]
    }
   ],
   "source": [
    "\n",
    "def tong(a,b):\n",
    "    print(a+b)\n",
    "def hiêu(a,b):\n",
    "    print(a-b)\n",
    "def thương(a,b):\n",
    "    print(a/b)\n",
    "def tich(a,b):\n",
    "    print(a*b)\n",
    "tong(2,3)\n",
    "hiêu(5,2)\n",
    "thương(5,6)\n",
    "tich(5,5)"
   ]
  },
  {
   "cell_type": "markdown",
   "id": "a7c39f47",
   "metadata": {},
   "source": [
    "### Giá trị trả về của hàm\n",
    "\n",
    "# return\n",
    "\n",
    "Cú pháp:\n",
    "\n",
    "`retrun <giá trị trả về>`\n",
    "\n",
    "##### Lưu ý: Sau khi thực hiện lệnh return, chương trình sẽ thoát khỏi hàm ngay lập tức (những lệnh sau đó không được thực hiện)\n",
    "\n",
    "Ví dụ:\n",
    "\n",
    "Hãy viết 1 hàm trả về giá trị trung bình của 2 số bất kỳ"
   ]
  },
  {
   "cell_type": "code",
   "execution_count": 12,
   "id": "0b527b95",
   "metadata": {},
   "outputs": [
    {
     "name": "stdout",
     "output_type": "stream",
     "text": [
      "1\n"
     ]
    }
   ],
   "source": [
    "def chanle(a):\n",
    "    if a%2 == 0:\n",
    "        return 2\n",
    "    return 1\n",
    "print(chanle(7))"
   ]
  },
  {
   "cell_type": "code",
   "execution_count": 9,
   "id": "453e86b0",
   "metadata": {},
   "outputs": [
    {
     "name": "stdout",
     "output_type": "stream",
     "text": [
      "2\n"
     ]
    }
   ],
   "source": [
    "def chanle(a):\n",
    "    if a%2 == 0:\n",
    "        return 2\n",
    "    return 1\n",
    "print(chanle(8))"
   ]
  },
  {
   "cell_type": "markdown",
   "id": "1d7f8db0",
   "metadata": {},
   "source": [
    "### Bài tập"
   ]
  },
  {
   "cell_type": "markdown",
   "id": "75fb488b",
   "metadata": {},
   "source": [
    "Viết hàm kiểm tra số nguyên tố"
   ]
  },
  {
   "cell_type": "code",
   "execution_count": 16,
   "id": "63701bd7",
   "metadata": {},
   "outputs": [
    {
     "name": "stdout",
     "output_type": "stream",
     "text": [
      "None\n"
     ]
    }
   ],
   "source": [
    "i = 0\n",
    "def K(a):\n",
    "    \n",
    "    if a%a == 1:\n",
    "        print(\"Đây là số nguyên tố\")\n",
    "    \n",
    "print(K(5))\n",
    "    "
   ]
  },
  {
   "cell_type": "code",
   "execution_count": 18,
   "id": "529996d8",
   "metadata": {},
   "outputs": [
    {
     "name": "stdout",
     "output_type": "stream",
     "text": [
      "True\n"
     ]
    }
   ],
   "source": [
    "def snt(a):\n",
    "    b = 0\n",
    "    for i in range(1,a**2):\n",
    "        if a%i == 0:\n",
    "            b += 1\n",
    "    return b != 0\n",
    "print(snt(5))"
   ]
  },
  {
   "cell_type": "code",
   "execution_count": 24,
   "id": "3ee22129",
   "metadata": {},
   "outputs": [
    {
     "name": "stdout",
     "output_type": "stream",
     "text": [
      "Nhập số cần kiểm tra:7\n",
      "False\n"
     ]
    }
   ],
   "source": [
    "def snt(a):\n",
    "    for i in range(1,a**2):\n",
    "        if a%i == 0:\n",
    "            return False\n",
    "    return True\n",
    "a = int(input('Nhập số cần kiểm tra:'))\n",
    "print(snt(a))"
   ]
  },
  {
   "cell_type": "markdown",
   "id": "221103cf",
   "metadata": {},
   "source": [
    "Nhập vào 3 điểm toán, lý, hóa\n",
    "\n",
    "Hãy viết hàm in điểm trung bung bình rồi tính điểm trung bình của toán lý, toán hóa, lý hóa và toán lý hóa"
   ]
  },
  {
   "cell_type": "code",
   "execution_count": 26,
   "id": "1ba1d8ae",
   "metadata": {},
   "outputs": [],
   "source": [
    "def tb_2_so(t, l):\n",
    "    dtb = (t + l) / 2\n",
    "    return dtb\n",
    "\n",
    "def tb_3_so(t, l, h):\n",
    "    dtb = (t + l + h) / 3\n",
    "    return dtb"
   ]
  },
  {
   "cell_type": "code",
   "execution_count": 27,
   "id": "3a8b474c",
   "metadata": {},
   "outputs": [
    {
     "name": "stdout",
     "output_type": "stream",
     "text": [
      "7.5\n",
      "7.666666666666667\n"
     ]
    }
   ],
   "source": [
    "def tb_2_so(t, l):\n",
    "    dtb = (t + l) / 2\n",
    "    return dtb\n",
    "\n",
    "def tb_3_so(t, l, h):\n",
    "    dtb = (t + l + h) / 3\n",
    "    return dtb\n",
    "\n",
    "print(tb_2_so(6, 9))\n",
    "\n",
    "print(tb_3_so(9, 6, 8))\n"
   ]
  },
  {
   "cell_type": "markdown",
   "id": "50f43307",
   "metadata": {},
   "source": [
    "Viết hàm đếm số lượng từ của một chuỗi đưa vào"
   ]
  },
  {
   "cell_type": "code",
   "execution_count": 29,
   "id": "be785b29",
   "metadata": {},
   "outputs": [
    {
     "name": "stdout",
     "output_type": "stream",
     "text": [
      "Nhap chuoi: xin chào các bạn\n",
      "4\n"
     ]
    }
   ],
   "source": [
    "def demtu(a):\n",
    "    a += \" \"\n",
    "    count = 0\n",
    "    for i in a:\n",
    "        if i==\" \":\n",
    "            count+=1\n",
    "    return count\n",
    "\n",
    "a = input(\"Nhap chuoi: \")\n",
    "print(demtu(a))"
   ]
  },
  {
   "cell_type": "markdown",
   "id": "b4adef40",
   "metadata": {},
   "source": [
    "Viết một hàm vẽ hình tròn, một hàm vẽ hình vuông và một hàm vẽ hình tam giác đều (giá trị đầu vào là a)\n",
    "\n",
    "Tất cả hàm này, bắt đầu từ 1 vị trí, sau khi vẽ ra, con trỏ sẽ tiến tới vị trí tiếp theo, cách vì đầu một khoảng a + 10 theo chiều x từ trái sang"
   ]
  },
  {
   "cell_type": "code",
   "execution_count": 1,
   "id": "e405d1d4",
   "metadata": {},
   "outputs": [],
   "source": [
    "import turtle\n",
    "\n",
    "t = turtle.Turtle()\n",
    "\n",
    "def hinhtron(a):\n",
    "    t.pu()\n",
    "    t.fd(a/2)\n",
    "    t.pd()\n",
    "    t.circle(a/2)\n",
    "    t.pu()\n",
    "    t.fd(a/2 + 10)\n",
    "    t.pd()\n",
    "    \n",
    "def hinhvuong(a):\n",
    "    for i in range(4):\n",
    "        t.fd(a)\n",
    "        t.left(90)\n",
    "    t.pu()\n",
    "    t.fd(a+10)\n",
    "    t.pd()\n",
    "\n",
    "def hinhtamgiac(a):\n",
    "    for i in range(3):\n",
    "        t.fd(a)\n",
    "        t.left(120)\n",
    "    t.pu()\n",
    "    t.fd(a+10)\n",
    "    t.pd()"
   ]
  },
  {
   "cell_type": "code",
   "execution_count": 2,
   "id": "6bacad3a",
   "metadata": {},
   "outputs": [],
   "source": [
    "hinhvuong(50)\n"
   ]
  },
  {
   "cell_type": "code",
   "execution_count": 3,
   "id": "d841e261",
   "metadata": {},
   "outputs": [],
   "source": [
    "hinhtron(50)\n"
   ]
  },
  {
   "cell_type": "code",
   "execution_count": 1,
   "id": "5af48711",
   "metadata": {},
   "outputs": [
    {
     "ename": "NameError",
     "evalue": "name 'hinhtamgiac' is not defined",
     "output_type": "error",
     "traceback": [
      "\u001b[1;31m---------------------------------------------------------------------------\u001b[0m",
      "\u001b[1;31mNameError\u001b[0m                                 Traceback (most recent call last)",
      "Input \u001b[1;32mIn [1]\u001b[0m, in \u001b[0;36m<cell line: 1>\u001b[1;34m()\u001b[0m\n\u001b[1;32m----> 1\u001b[0m \u001b[43mhinhtamgiac\u001b[49m(\u001b[38;5;241m50\u001b[39m)\n",
      "\u001b[1;31mNameError\u001b[0m: name 'hinhtamgiac' is not defined"
     ]
    }
   ],
   "source": [
    "hinhtamgiac(50)"
   ]
  }
 ],
 "metadata": {
  "kernelspec": {
   "display_name": "Python 3 (ipykernel)",
   "language": "python",
   "name": "python3"
  },
  "language_info": {
   "codemirror_mode": {
    "name": "ipython",
    "version": 3
   },
   "file_extension": ".py",
   "mimetype": "text/x-python",
   "name": "python",
   "nbconvert_exporter": "python",
   "pygments_lexer": "ipython3",
   "version": "3.10.4"
  }
 },
 "nbformat": 4,
 "nbformat_minor": 5
}
